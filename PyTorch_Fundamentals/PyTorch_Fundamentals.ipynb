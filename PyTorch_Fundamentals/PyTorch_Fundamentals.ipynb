{
 "cells": [
  {
   "cell_type": "code",
   "execution_count": 1,
   "metadata": {
    "colab": {
     "base_uri": "https://localhost:8080/",
     "height": 36
    },
    "executionInfo": {
     "elapsed": 5939,
     "status": "ok",
     "timestamp": 1759596300279,
     "user": {
      "displayName": "Abhinandan M.",
      "userId": "04846194388741941952"
     },
     "user_tz": -330
    },
    "id": "fW1VKQge3UKb",
    "outputId": "746f32cc-db18-4335-bfd2-e0cba765d073"
   },
   "outputs": [
    {
     "data": {
      "text/plain": [
       "'2.8.0+cpu'"
      ]
     },
     "execution_count": 1,
     "metadata": {},
     "output_type": "execute_result"
    }
   ],
   "source": [
    "import torch\n",
    "torch.__version__"
   ]
  },
  {
   "cell_type": "markdown",
   "metadata": {
    "id": "Fbr9nXvoQZ-y"
   },
   "source": [
    "#Tensors"
   ]
  },
  {
   "cell_type": "code",
   "execution_count": 2,
   "metadata": {
    "colab": {
     "base_uri": "https://localhost:8080/"
    },
    "executionInfo": {
     "elapsed": 49,
     "status": "ok",
     "timestamp": 1759596300332,
     "user": {
      "displayName": "Abhinandan M.",
      "userId": "04846194388741941952"
     },
     "user_tz": -330
    },
    "id": "-KOHybV-Qddq",
    "outputId": "13d59b19-e219-4d65-b04d-979a0a024e3e"
   },
   "outputs": [
    {
     "data": {
      "text/plain": [
       "5"
      ]
     },
     "execution_count": 2,
     "metadata": {},
     "output_type": "execute_result"
    }
   ],
   "source": [
    "#Scaler\n",
    "#Scaler is a 0 dimentional tensor, it's a single number\n",
    "\n",
    "scaler=torch.tensor(5)\n",
    "# printing tensor(scaler)\n",
    "scaler\n",
    "# tensor dimention\n",
    "scaler.ndim\n",
    "# getting the item of the tensor\n",
    "scaler.item()"
   ]
  },
  {
   "cell_type": "code",
   "execution_count": 3,
   "metadata": {
    "colab": {
     "base_uri": "https://localhost:8080/"
    },
    "executionInfo": {
     "elapsed": 21,
     "status": "ok",
     "timestamp": 1759596300357,
     "user": {
      "displayName": "Abhinandan M.",
      "userId": "04846194388741941952"
     },
     "user_tz": -330
    },
    "id": "7ZTzwpEhQ5Pr",
    "outputId": "d6ec79de-3326-4dab-bb08-cadaf743c1cd"
   },
   "outputs": [
    {
     "data": {
      "text/plain": [
       "torch.Size([3])"
      ]
     },
     "execution_count": 3,
     "metadata": {},
     "output_type": "execute_result"
    }
   ],
   "source": [
    "# Vector\n",
    "# vector is a 1 dimentional tensor with many numbers\n",
    "vector=torch.tensor([1,2,3])\n",
    "vector\n",
    "# dimention of vector\n",
    "vector.ndim\n",
    "# shape of vector, (no of items inside vector)\n",
    "vector.shape"
   ]
  },
  {
   "cell_type": "code",
   "execution_count": 4,
   "metadata": {
    "colab": {
     "base_uri": "https://localhost:8080/"
    },
    "executionInfo": {
     "elapsed": 16,
     "status": "ok",
     "timestamp": 1759596300410,
     "user": {
      "displayName": "Abhinandan M.",
      "userId": "04846194388741941952"
     },
     "user_tz": -330
    },
    "id": "KHbABQTMRh1k",
    "outputId": "c2c706d0-9054-42e2-eaef-30ece2548966"
   },
   "outputs": [
    {
     "data": {
      "text/plain": [
       "torch.Size([2, 3])"
      ]
     },
     "execution_count": 4,
     "metadata": {},
     "output_type": "execute_result"
    }
   ],
   "source": [
    "# MATRIX\n",
    "# MATRIX is a combination of 2 or more vectors\n",
    "MATRIX=torch.tensor([[1,2,3],[4,5,6]])\n",
    "MATRIX\n",
    "# dimention\n",
    "MATRIX.ndim\n",
    "# shape\n",
    "# Above MATRIX is a shape of 2x3, 2 rows, 3 columns\n",
    "MATRIX.shape"
   ]
  },
  {
   "cell_type": "code",
   "execution_count": 5,
   "metadata": {
    "colab": {
     "base_uri": "https://localhost:8080/"
    },
    "executionInfo": {
     "elapsed": 13,
     "status": "ok",
     "timestamp": 1759596300426,
     "user": {
      "displayName": "Abhinandan M.",
      "userId": "04846194388741941952"
     },
     "user_tz": -330
    },
    "id": "jyfdGIvpSizF",
    "outputId": "9de25e4d-7d2c-4c57-e77e-3da6b15bcf80"
   },
   "outputs": [
    {
     "data": {
      "text/plain": [
       "torch.Size([1, 3, 3])"
      ]
     },
     "execution_count": 5,
     "metadata": {},
     "output_type": "execute_result"
    }
   ],
   "source": [
    "# Matrix example 2\n",
    "MATRIX_2=torch.tensor([[[1,2,3],[4,5,6],[7,8,9]]])\n",
    "MATRIX_2\n",
    "MATRIX_2.ndim\n",
    "# shape\n",
    "MATRIX_2.shape\n",
    "# MATRIX_2 is 3x3 matrix, for first [], 1 has come\n",
    "# that means, there is a 1 dimention of 3x3 matrix\n"
   ]
  },
  {
   "cell_type": "markdown",
   "metadata": {
    "id": "iwK4Kwq_UNga"
   },
   "source": [
    "#Random Tensors"
   ]
  },
  {
   "cell_type": "code",
   "execution_count": 6,
   "metadata": {
    "colab": {
     "base_uri": "https://localhost:8080/"
    },
    "executionInfo": {
     "elapsed": 100,
     "status": "ok",
     "timestamp": 1759596300523,
     "user": {
      "displayName": "Abhinandan M.",
      "userId": "04846194388741941952"
     },
     "user_tz": -330
    },
    "id": "eywC2DSrUPSz",
    "outputId": "5406a2d3-e540-4bc2-c1ec-82fadf623907"
   },
   "outputs": [
    {
     "data": {
      "text/plain": [
       "tensor([[0.6895, 0.6675, 0.3067, 0.2277],\n",
       "        [0.6974, 0.6114, 0.7614, 0.8193],\n",
       "        [0.8690, 0.1489, 0.6255, 0.1906]])"
      ]
     },
     "execution_count": 6,
     "metadata": {},
     "output_type": "execute_result"
    }
   ],
   "source": [
    "# torch.rand()\n",
    "# use to create tensor of random number\n",
    "# we can pass size=(), parameter for defining size\n",
    "\n",
    "# random tensor of size 3x4\n",
    "rand_1=torch.rand(size=(3,4))\n",
    "rand_1"
   ]
  },
  {
   "cell_type": "code",
   "execution_count": 7,
   "metadata": {
    "colab": {
     "base_uri": "https://localhost:8080/"
    },
    "executionInfo": {
     "elapsed": 144,
     "status": "ok",
     "timestamp": 1759596300669,
     "user": {
      "displayName": "Abhinandan M.",
      "userId": "04846194388741941952"
     },
     "user_tz": -330
    },
    "id": "rgtgfh7AU2Qk",
    "outputId": "0e31a2b6-455e-4a9f-8e30-60545a034421"
   },
   "outputs": [
    {
     "data": {
      "text/plain": [
       "torch.Size([3, 4])"
      ]
     },
     "execution_count": 7,
     "metadata": {},
     "output_type": "execute_result"
    }
   ],
   "source": [
    "# datatype\n",
    "rand_1.dtype\n",
    "# dimention\n",
    "rand_1.ndim\n",
    "# shape\n",
    "rand_1.shape"
   ]
  },
  {
   "cell_type": "code",
   "execution_count": 8,
   "metadata": {
    "colab": {
     "base_uri": "https://localhost:8080/"
    },
    "executionInfo": {
     "elapsed": 126,
     "status": "ok",
     "timestamp": 1759596300672,
     "user": {
      "displayName": "Abhinandan M.",
      "userId": "04846194388741941952"
     },
     "user_tz": -330
    },
    "id": "6sFbmqGWV_x3",
    "outputId": "eccec070-73db-4359-a667-31a1cb52b4fe"
   },
   "outputs": [
    {
     "data": {
      "text/plain": [
       "tensor([[[0.9900, 0.5673, 0.9076, 0.8231],\n",
       "         [0.9473, 0.2880, 0.3702, 0.1930],\n",
       "         [0.8198, 0.1651, 0.7342, 0.4130]],\n",
       "\n",
       "        [[0.3082, 0.0359, 0.4142, 0.6118],\n",
       "         [0.3403, 0.3171, 0.3860, 0.1194],\n",
       "         [0.9875, 0.2590, 0.0070, 0.7069]],\n",
       "\n",
       "        [[0.8045, 0.9787, 0.9053, 0.5850],\n",
       "         [0.1511, 0.7076, 0.0791, 0.4569],\n",
       "         [0.5119, 0.9318, 0.5983, 0.4627]]])"
      ]
     },
     "execution_count": 8,
     "metadata": {},
     "output_type": "execute_result"
    }
   ],
   "source": [
    "rand_tensor_2=torch.rand(size=(3,3,4))\n",
    "rand_tensor_2\n",
    "# 3x4 matrix, repeats 3 times"
   ]
  },
  {
   "cell_type": "code",
   "execution_count": 9,
   "metadata": {
    "colab": {
     "base_uri": "https://localhost:8080/"
    },
    "executionInfo": {
     "elapsed": 99,
     "status": "ok",
     "timestamp": 1759596300673,
     "user": {
      "displayName": "Abhinandan M.",
      "userId": "04846194388741941952"
     },
     "user_tz": -330
    },
    "id": "JDeYhRXKWTAS",
    "outputId": "38bab3fc-8bad-430d-e448-abd82fbb46b9"
   },
   "outputs": [
    {
     "data": {
      "text/plain": [
       "torch.Size([3, 3, 4])"
      ]
     },
     "execution_count": 9,
     "metadata": {},
     "output_type": "execute_result"
    }
   ],
   "source": [
    "rand_tensor_2.ndim\n",
    "rand_tensor_2.shape"
   ]
  },
  {
   "cell_type": "code",
   "execution_count": 10,
   "metadata": {
    "colab": {
     "base_uri": "https://localhost:8080/"
    },
    "executionInfo": {
     "elapsed": 93,
     "status": "ok",
     "timestamp": 1759596300675,
     "user": {
      "displayName": "Abhinandan M.",
      "userId": "04846194388741941952"
     },
     "user_tz": -330
    },
    "id": "Qe1fUrJvVBKj",
    "outputId": "b8b554ac-d25d-4b1c-9184-15ec8c807c30"
   },
   "outputs": [
    {
     "data": {
      "text/plain": [
       "tensor([[[0.2724, 0.3902, 0.1595],\n",
       "         [0.1505, 0.5626, 0.9745],\n",
       "         [0.5399, 0.2079, 0.4152],\n",
       "         ...,\n",
       "         [0.0196, 0.2881, 0.5975],\n",
       "         [0.6785, 0.9082, 0.4116],\n",
       "         [0.0393, 0.6334, 0.7755]],\n",
       "\n",
       "        [[0.1915, 0.2422, 0.4833],\n",
       "         [0.5281, 0.7180, 0.9370],\n",
       "         [0.5768, 0.1800, 0.8801],\n",
       "         ...,\n",
       "         [0.2146, 0.4035, 0.8731],\n",
       "         [0.2771, 0.9641, 0.6929],\n",
       "         [0.6018, 0.2822, 0.1791]],\n",
       "\n",
       "        [[0.2416, 0.2511, 0.8519],\n",
       "         [0.4881, 0.5723, 0.6234],\n",
       "         [0.1367, 0.1981, 0.0636],\n",
       "         ...,\n",
       "         [0.7895, 0.3810, 0.5848],\n",
       "         [0.3855, 0.3486, 0.6789],\n",
       "         [0.4321, 0.3299, 0.7174]],\n",
       "\n",
       "        ...,\n",
       "\n",
       "        [[0.7110, 0.2791, 0.3096],\n",
       "         [0.3835, 0.8239, 0.8381],\n",
       "         [0.0483, 0.1104, 0.6222],\n",
       "         ...,\n",
       "         [0.2071, 0.1202, 0.8483],\n",
       "         [0.3726, 0.8794, 0.9036],\n",
       "         [0.5699, 0.2263, 0.4644]],\n",
       "\n",
       "        [[0.3351, 0.7622, 0.3334],\n",
       "         [0.5197, 0.5968, 0.9132],\n",
       "         [0.6452, 0.8783, 0.3224],\n",
       "         ...,\n",
       "         [0.9209, 0.2527, 0.3211],\n",
       "         [0.2788, 0.1555, 0.5716],\n",
       "         [0.0255, 0.4558, 0.8872]],\n",
       "\n",
       "        [[0.3296, 0.3679, 0.2424],\n",
       "         [0.9234, 0.2971, 0.3120],\n",
       "         [0.7749, 0.8873, 0.1585],\n",
       "         ...,\n",
       "         [0.7758, 0.0623, 0.3865],\n",
       "         [0.6116, 0.1386, 0.6121],\n",
       "         [0.7205, 0.2511, 0.7858]]])"
      ]
     },
     "execution_count": 10,
     "metadata": {},
     "output_type": "execute_result"
    }
   ],
   "source": [
    "# example 2 of random tensor\n",
    "# standard img [224,224,3]: [width, height, color_channel]\n",
    "rand_img_tensor=torch.rand(size=(224,224,3))\n",
    "rand_img_tensor"
   ]
  },
  {
   "cell_type": "code",
   "execution_count": 11,
   "metadata": {
    "colab": {
     "base_uri": "https://localhost:8080/"
    },
    "executionInfo": {
     "elapsed": 5,
     "status": "ok",
     "timestamp": 1759596300681,
     "user": {
      "displayName": "Abhinandan M.",
      "userId": "04846194388741941952"
     },
     "user_tz": -330
    },
    "id": "CyNA0UuwVRKr",
    "outputId": "e43c456f-6a7d-4437-bd53-c477a1580b71"
   },
   "outputs": [
    {
     "data": {
      "text/plain": [
       "torch.Size([224, 224, 3])"
      ]
     },
     "execution_count": 11,
     "metadata": {},
     "output_type": "execute_result"
    }
   ],
   "source": [
    "# properties\n",
    "# dimention\n",
    "# it's a 3 D tensor\n",
    "rand_img_tensor.ndim\n",
    "rand_img_tensor.shape"
   ]
  },
  {
   "cell_type": "markdown",
   "metadata": {
    "id": "8Y1XFi44W7aT"
   },
   "source": [
    "#Zeros and Ones"
   ]
  },
  {
   "cell_type": "code",
   "execution_count": 12,
   "metadata": {
    "colab": {
     "base_uri": "https://localhost:8080/"
    },
    "executionInfo": {
     "elapsed": 6,
     "status": "ok",
     "timestamp": 1759596300691,
     "user": {
      "displayName": "Abhinandan M.",
      "userId": "04846194388741941952"
     },
     "user_tz": -330
    },
    "id": "hbJc9arPW9Zc",
    "outputId": "602f8845-4160-43d3-f8e1-f456839938ef"
   },
   "outputs": [
    {
     "data": {
      "text/plain": [
       "tensor([[0., 0., 0., 0.],\n",
       "        [0., 0., 0., 0.],\n",
       "        [0., 0., 0., 0.]])"
      ]
     },
     "execution_count": 12,
     "metadata": {},
     "output_type": "execute_result"
    }
   ],
   "source": [
    "# sometimes, we need to fill tensors with zeros and ones\n",
    "# torch.zeros(), torch.ones() plays a crucial role into it\n",
    "\n",
    "zeros_1=torch.zeros(size=(3,4))\n",
    "zeros_1"
   ]
  },
  {
   "cell_type": "code",
   "execution_count": 13,
   "metadata": {
    "colab": {
     "base_uri": "https://localhost:8080/"
    },
    "executionInfo": {
     "elapsed": 5,
     "status": "ok",
     "timestamp": 1759596300697,
     "user": {
      "displayName": "Abhinandan M.",
      "userId": "04846194388741941952"
     },
     "user_tz": -330
    },
    "id": "AwIqbZU5X10y",
    "outputId": "4ac95b4e-5a9f-4e1a-ed37-8cc6945ec260"
   },
   "outputs": [
    {
     "data": {
      "text/plain": [
       "tensor([[1., 1., 1., 1.],\n",
       "        [1., 1., 1., 1.],\n",
       "        [1., 1., 1., 1.]])"
      ]
     },
     "execution_count": 13,
     "metadata": {},
     "output_type": "execute_result"
    }
   ],
   "source": [
    "ones_1=torch.ones(size=(3,4))\n",
    "ones_1"
   ]
  },
  {
   "cell_type": "code",
   "execution_count": 14,
   "metadata": {
    "colab": {
     "base_uri": "https://localhost:8080/"
    },
    "executionInfo": {
     "elapsed": 15,
     "status": "ok",
     "timestamp": 1759596300713,
     "user": {
      "displayName": "Abhinandan M.",
      "userId": "04846194388741941952"
     },
     "user_tz": -330
    },
    "id": "XT4vxBjcX99R",
    "outputId": "4168dbbf-7182-4e4b-d5e7-78b18ce24b90"
   },
   "outputs": [
    {
     "data": {
      "text/plain": [
       "(torch.float32, torch.float32)"
      ]
     },
     "execution_count": 14,
     "metadata": {},
     "output_type": "execute_result"
    }
   ],
   "source": [
    "# default datatype of tensor is float32\n",
    "zeros_1.dtype, ones_1.dtype"
   ]
  },
  {
   "cell_type": "markdown",
   "metadata": {
    "id": "8cL8mK_hZ3CK"
   },
   "source": [
    "#Creating a range and Tensor like"
   ]
  },
  {
   "cell_type": "code",
   "execution_count": 15,
   "metadata": {
    "colab": {
     "base_uri": "https://localhost:8080/"
    },
    "executionInfo": {
     "elapsed": 55,
     "status": "ok",
     "timestamp": 1759596300769,
     "user": {
      "displayName": "Abhinandan M.",
      "userId": "04846194388741941952"
     },
     "user_tz": -330
    },
    "id": "AOknvs4MZ8IB",
    "outputId": "2ec0834e-ca90-49d5-9b56-ce1199553017"
   },
   "outputs": [
    {
     "data": {
      "text/plain": [
       "torch.Size([6])"
      ]
     },
     "execution_count": 15,
     "metadata": {},
     "output_type": "execute_result"
    }
   ],
   "source": [
    "# for creating range tensor\n",
    "# torch.arange(start, stop, step) is being used\n",
    "# torch.arange() will return 1D tensor\n",
    "range_1=torch.arange(0,11,2)\n",
    "range_1\n",
    "range_1.ndim\n",
    "range_1.shape\n"
   ]
  },
  {
   "cell_type": "code",
   "execution_count": 16,
   "metadata": {
    "colab": {
     "base_uri": "https://localhost:8080/"
    },
    "executionInfo": {
     "elapsed": 10,
     "status": "ok",
     "timestamp": 1759596300771,
     "user": {
      "displayName": "Abhinandan M.",
      "userId": "04846194388741941952"
     },
     "user_tz": -330
    },
    "id": "nKiflFWJbX-C",
    "outputId": "5920e192-72a8-4c3d-9e4c-efafe642dbce"
   },
   "outputs": [
    {
     "data": {
      "text/plain": [
       "tensor([0, 0, 0, 0, 0, 0])"
      ]
     },
     "execution_count": 16,
     "metadata": {},
     "output_type": "execute_result"
    }
   ],
   "source": [
    "# sometimes, we want a tensor of certain type with same shape as another type\n",
    "# for that, we have zeros_like, ones_like\n",
    "\n",
    "zeros_like_1=torch.zeros_like(input=range_1)\n",
    "zeros_like_1"
   ]
  },
  {
   "cell_type": "code",
   "execution_count": 17,
   "metadata": {
    "colab": {
     "base_uri": "https://localhost:8080/"
    },
    "executionInfo": {
     "elapsed": 7,
     "status": "ok",
     "timestamp": 1759596300778,
     "user": {
      "displayName": "Abhinandan M.",
      "userId": "04846194388741941952"
     },
     "user_tz": -330
    },
    "id": "7AfA0p66bpD9",
    "outputId": "2681d48d-6786-402a-88b7-c19d7f43e5bb"
   },
   "outputs": [
    {
     "data": {
      "text/plain": [
       "tensor([1, 1, 1, 1, 1, 1])"
      ]
     },
     "execution_count": 17,
     "metadata": {},
     "output_type": "execute_result"
    }
   ],
   "source": [
    "ones_like_1=torch.ones_like(input=range_1)\n",
    "ones_like_1"
   ]
  },
  {
   "cell_type": "markdown",
   "metadata": {
    "id": "uBSHaC1WclH8"
   },
   "source": [
    "#Tensor datatypes"
   ]
  },
  {
   "cell_type": "code",
   "execution_count": 18,
   "metadata": {
    "colab": {
     "base_uri": "https://localhost:8080/"
    },
    "executionInfo": {
     "elapsed": 8,
     "status": "ok",
     "timestamp": 1759596300788,
     "user": {
      "displayName": "Abhinandan M.",
      "userId": "04846194388741941952"
     },
     "user_tz": -330
    },
    "id": "W9dTpDxscoHh",
    "outputId": "7c4e848c-8dbe-4809-f34a-b8aa1180b279"
   },
   "outputs": [
    {
     "data": {
      "text/plain": [
       "device(type='cpu')"
      ]
     },
     "execution_count": 18,
     "metadata": {},
     "output_type": "execute_result"
    }
   ],
   "source": [
    "# in Tensor, default datatype if float32 (or whatever we've used)\n",
    "float_32_tensor=torch.tensor([1,2,3],dtype=torch.float32,#default is float32, else whatever we've used\n",
    "                             device=None, #default none, or which uses default tensor type\n",
    "                             requires_grad=False #if True, operations performed on tensor are recorded\n",
    "                             )\n",
    "\n",
    "float_32_tensor.dtype\n",
    "float_32_tensor.device"
   ]
  },
  {
   "cell_type": "code",
   "execution_count": 19,
   "metadata": {
    "colab": {
     "base_uri": "https://localhost:8080/"
    },
    "executionInfo": {
     "elapsed": 19,
     "status": "ok",
     "timestamp": 1759596300809,
     "user": {
      "displayName": "Abhinandan M.",
      "userId": "04846194388741941952"
     },
     "user_tz": -330
    },
    "id": "LbOwpPGRdrDc",
    "outputId": "577a3f72-8c12-4925-93a3-e4ccefd6a0a0"
   },
   "outputs": [
    {
     "data": {
      "text/plain": [
       "tensor([1., 2., 3.], dtype=torch.float16)"
      ]
     },
     "execution_count": 19,
     "metadata": {},
     "output_type": "execute_result"
    }
   ],
   "source": [
    "float_16_tensor=torch.tensor([1,2,3],dtype=torch.float16)\n",
    "float_16_tensor"
   ]
  },
  {
   "cell_type": "code",
   "execution_count": 20,
   "metadata": {
    "colab": {
     "base_uri": "https://localhost:8080/"
    },
    "executionInfo": {
     "elapsed": 10,
     "status": "ok",
     "timestamp": 1759596300821,
     "user": {
      "displayName": "Abhinandan M.",
      "userId": "04846194388741941952"
     },
     "user_tz": -330
    },
    "id": "OatlCr11eBM9",
    "outputId": "fb404a9e-55c9-4def-e6d0-18c6e6564051"
   },
   "outputs": [
    {
     "data": {
      "text/plain": [
       "tensor([[0.6890, 0.8546, 0.7691, 0.2114],\n",
       "        [0.4862, 0.5326, 0.9436, 0.2626],\n",
       "        [0.6800, 0.0884, 0.4417, 0.1797]])"
      ]
     },
     "execution_count": 20,
     "metadata": {},
     "output_type": "execute_result"
    }
   ],
   "source": [
    "# getting information from tensors\n",
    "tensor_1=torch.rand(size=(3,4))\n",
    "tensor_1"
   ]
  },
  {
   "cell_type": "code",
   "execution_count": 21,
   "metadata": {
    "colab": {
     "base_uri": "https://localhost:8080/"
    },
    "executionInfo": {
     "elapsed": 6,
     "status": "ok",
     "timestamp": 1759596300829,
     "user": {
      "displayName": "Abhinandan M.",
      "userId": "04846194388741941952"
     },
     "user_tz": -330
    },
    "id": "0nO7i6z1eLsj",
    "outputId": "ee22b4f8-de71-4315-ce6e-33ee5350d701"
   },
   "outputs": [
    {
     "data": {
      "text/plain": [
       "device(type='cpu')"
      ]
     },
     "execution_count": 21,
     "metadata": {},
     "output_type": "execute_result"
    }
   ],
   "source": [
    "# information of tensor_1\n",
    "tensor_1.shape\n",
    "tensor_1.dtype\n",
    "tensor_1.device #the device on which, tensor_1 is stored on"
   ]
  },
  {
   "cell_type": "markdown",
   "metadata": {
    "id": "Ij4OhYCfezGL"
   },
   "source": [
    "#Manipulating Tensors"
   ]
  },
  {
   "cell_type": "code",
   "execution_count": 22,
   "metadata": {
    "colab": {
     "base_uri": "https://localhost:8080/"
    },
    "executionInfo": {
     "elapsed": 36,
     "status": "ok",
     "timestamp": 1759596331185,
     "user": {
      "displayName": "Abhinandan M.",
      "userId": "04846194388741941952"
     },
     "user_tz": -330
    },
    "id": "o4Ksqkzie1iz",
    "outputId": "01652262-f65b-4fba-ce17-07fa39cf6249"
   },
   "outputs": [
    {
     "data": {
      "text/plain": [
       "tensor([1, 2, 3])"
      ]
     },
     "execution_count": 22,
     "metadata": {},
     "output_type": "execute_result"
    }
   ],
   "source": [
    "# we can perform many operations on tensors like\n",
    "# addition, multiplication, division, substraction, matrix multiplication etc\n",
    "\n",
    "# multiplication\n",
    "tensor=torch.tensor([1,2,3])\n",
    "tensor\n",
    "# multiplying with 10\n",
    "tensor*10\n",
    "# acutal tensor didn't change\n",
    "tensor"
   ]
  },
  {
   "cell_type": "code",
   "execution_count": 23,
   "metadata": {
    "colab": {
     "base_uri": "https://localhost:8080/"
    },
    "executionInfo": {
     "elapsed": 10,
     "status": "ok",
     "timestamp": 1759596368808,
     "user": {
      "displayName": "Abhinandan M.",
      "userId": "04846194388741941952"
     },
     "user_tz": -330
    },
    "id": "ldKi0bFXHWtz",
    "outputId": "f0a25a89-2f94-420a-bf3e-a9c982f3cd96"
   },
   "outputs": [
    {
     "data": {
      "text/plain": [
       "tensor([-9, -8, -7])"
      ]
     },
     "execution_count": 23,
     "metadata": {},
     "output_type": "execute_result"
    }
   ],
   "source": [
    "tensor=tensor-10\n",
    "tensor"
   ]
  },
  {
   "cell_type": "code",
   "execution_count": 24,
   "metadata": {
    "colab": {
     "base_uri": "https://localhost:8080/"
    },
    "executionInfo": {
     "elapsed": 28,
     "status": "ok",
     "timestamp": 1759596382942,
     "user": {
      "displayName": "Abhinandan M.",
      "userId": "04846194388741941952"
     },
     "user_tz": -330
    },
    "id": "xrhIwxpuHe4c",
    "outputId": "50a4461a-f6ce-4c00-c504-4526073d4ee9"
   },
   "outputs": [
    {
     "data": {
      "text/plain": [
       "tensor([1, 2, 3])"
      ]
     },
     "execution_count": 24,
     "metadata": {},
     "output_type": "execute_result"
    }
   ],
   "source": [
    "tensor=tensor+10\n",
    "tensor"
   ]
  },
  {
   "cell_type": "code",
   "execution_count": 25,
   "metadata": {
    "colab": {
     "base_uri": "https://localhost:8080/"
    },
    "executionInfo": {
     "elapsed": 24,
     "status": "ok",
     "timestamp": 1759596498168,
     "user": {
      "displayName": "Abhinandan M.",
      "userId": "04846194388741941952"
     },
     "user_tz": -330
    },
    "id": "XjUAMNO9HknO",
    "outputId": "e39f6341-db39-4ece-8370-ea2b554c6855"
   },
   "outputs": [
    {
     "data": {
      "text/plain": [
       "tensor([1, 2, 3])"
      ]
     },
     "execution_count": 25,
     "metadata": {},
     "output_type": "execute_result"
    }
   ],
   "source": [
    "# another method for multiplying tensor\n",
    "mul_tensor=torch.tensor([1,2,3])\n",
    "torch.multiply(mul_tensor,10)\n",
    "# it'll show the result of operation\n",
    "\n",
    "# original tensor\n",
    "mul_tensor"
   ]
  },
  {
   "cell_type": "code",
   "execution_count": 26,
   "metadata": {
    "colab": {
     "base_uri": "https://localhost:8080/"
    },
    "executionInfo": {
     "elapsed": 18,
     "status": "ok",
     "timestamp": 1759596684523,
     "user": {
      "displayName": "Abhinandan M.",
      "userId": "04846194388741941952"
     },
     "user_tz": -330
    },
    "id": "cI7AnRCxIPMF",
    "outputId": "6716273f-8a69-416c-b83a-176aa1eb1989"
   },
   "outputs": [
    {
     "data": {
      "text/plain": [
       "tensor([1, 2, 3])"
      ]
     },
     "execution_count": 26,
     "metadata": {},
     "output_type": "execute_result"
    }
   ],
   "source": [
    "# matrix multiplication\n",
    "matrix_multi_tensor=torch.tensor([1,2,3])\n",
    "matrix_multi_tensor"
   ]
  },
  {
   "cell_type": "code",
   "execution_count": 27,
   "metadata": {
    "colab": {
     "base_uri": "https://localhost:8080/"
    },
    "executionInfo": {
     "elapsed": 28,
     "status": "ok",
     "timestamp": 1759596659507,
     "user": {
      "displayName": "Abhinandan M.",
      "userId": "04846194388741941952"
     },
     "user_tz": -330
    },
    "id": "v2cvKQ78IfTz",
    "outputId": "0785fd19-9cd9-4c04-c5ed-f7f93fe9641f"
   },
   "outputs": [
    {
     "data": {
      "text/plain": [
       "tensor([1, 4, 9])"
      ]
     },
     "execution_count": 27,
     "metadata": {},
     "output_type": "execute_result"
    }
   ],
   "source": [
    "# element wise multiplication of 'matrix_multi_tensor'\n",
    "matrix_multi_tensor*matrix_multi_tensor"
   ]
  },
  {
   "cell_type": "code",
   "execution_count": 28,
   "metadata": {
    "colab": {
     "base_uri": "https://localhost:8080/"
    },
    "executionInfo": {
     "elapsed": 61,
     "status": "ok",
     "timestamp": 1759596828719,
     "user": {
      "displayName": "Abhinandan M.",
      "userId": "04846194388741941952"
     },
     "user_tz": -330
    },
    "id": "By_pFXwkJAPF",
    "outputId": "5af976b6-2714-410b-b2d8-017fdd1c7a49"
   },
   "outputs": [
    {
     "data": {
      "text/plain": [
       "tensor(14)"
      ]
     },
     "execution_count": 28,
     "metadata": {},
     "output_type": "execute_result"
    }
   ],
   "source": [
    "# matrix wise multiplication\n",
    "# method 1\n",
    "torch.matmul(matrix_multi_tensor,matrix_multi_tensor)\n",
    "\n",
    "# method 2\n",
    "# @ used for matrix multiplication\n",
    "matrix_multi_tensor@matrix_multi_tensor"
   ]
  },
  {
   "cell_type": "code",
   "execution_count": 29,
   "metadata": {
    "colab": {
     "base_uri": "https://localhost:8080/"
    },
    "executionInfo": {
     "elapsed": 42,
     "status": "ok",
     "timestamp": 1759596942832,
     "user": {
      "displayName": "Abhinandan M.",
      "userId": "04846194388741941952"
     },
     "user_tz": -330
    },
    "id": "G8BVYYAcJROM",
    "outputId": "c7ec2d3f-ca6c-4871-af3a-cef682b95587"
   },
   "outputs": [
    {
     "name": "stderr",
     "output_type": "stream",
     "text": [
      "UsageError: Line magic function `%%time` not found.\n"
     ]
    }
   ],
   "source": [
    "# matrix multiplication time taken from loop and from matmul\n",
    "\n",
    "%%time\n",
    "value=0\n",
    "for i in range(len(matrix_multi_tensor)):\n",
    "  value+=matrix_multi_tensor[i]*matrix_multi_tensor[i]\n",
    "value"
   ]
  },
  {
   "cell_type": "code",
   "execution_count": null,
   "metadata": {
    "colab": {
     "base_uri": "https://localhost:8080/"
    },
    "executionInfo": {
     "elapsed": 19,
     "status": "ok",
     "timestamp": 1759596975747,
     "user": {
      "displayName": "Abhinandan M.",
      "userId": "04846194388741941952"
     },
     "user_tz": -330
    },
    "id": "qIWp091IJqom",
    "outputId": "6445e1d0-a09f-45a9-bfca-b9102e750cfb"
   },
   "outputs": [
    {
     "name": "stdout",
     "output_type": "stream",
     "text": [
      "CPU times: user 333 µs, sys: 0 ns, total: 333 µs\n",
      "Wall time: 281 µs\n"
     ]
    },
    {
     "data": {
      "text/plain": [
       "tensor(14)"
      ]
     },
     "execution_count": 41,
     "metadata": {},
     "output_type": "execute_result"
    }
   ],
   "source": [
    "# using torch.matmul()\n",
    "%%time\n",
    "torch.matmul(matrix_multi_tensor, matrix_multi_tensor)"
   ]
  },
  {
   "cell_type": "code",
   "execution_count": null,
   "metadata": {
    "colab": {
     "base_uri": "https://localhost:8080/"
    },
    "executionInfo": {
     "elapsed": 122,
     "status": "ok",
     "timestamp": 1759597114131,
     "user": {
      "displayName": "Abhinandan M.",
      "userId": "04846194388741941952"
     },
     "user_tz": -330
    },
    "id": "GjEFbA-gKIO9",
    "outputId": "2f46b891-ad43-403a-80d0-eca33653f9de"
   },
   "outputs": [
    {
     "data": {
      "text/plain": [
       "tensor([[0.0109, 0.4912],\n",
       "        [0.8006, 0.0867],\n",
       "        [0.9048, 0.4482]])"
      ]
     },
     "execution_count": 43,
     "metadata": {},
     "output_type": "execute_result"
    }
   ],
   "source": [
    "# matrix multiplication in Tensor\n",
    "tensor_A=torch.rand(size=(3,2))\n",
    "tensor_A"
   ]
  },
  {
   "cell_type": "code",
   "execution_count": null,
   "metadata": {
    "colab": {
     "base_uri": "https://localhost:8080/"
    },
    "executionInfo": {
     "elapsed": 25,
     "status": "ok",
     "timestamp": 1759597129069,
     "user": {
      "displayName": "Abhinandan M.",
      "userId": "04846194388741941952"
     },
     "user_tz": -330
    },
    "id": "cHuOZRyMKTyn",
    "outputId": "abdbb61c-51a9-47ae-fe6b-82d0b96645d1"
   },
   "outputs": [
    {
     "data": {
      "text/plain": [
       "tensor([[0.4105, 0.2026],\n",
       "        [0.9062, 0.2846],\n",
       "        [0.4656, 0.3088]])"
      ]
     },
     "execution_count": 44,
     "metadata": {},
     "output_type": "execute_result"
    }
   ],
   "source": [
    "tensor_B=torch.rand(size=(3,2))\n",
    "tensor_B"
   ]
  },
  {
   "cell_type": "code",
   "execution_count": null,
   "metadata": {
    "colab": {
     "base_uri": "https://localhost:8080/"
    },
    "executionInfo": {
     "elapsed": 17,
     "status": "ok",
     "timestamp": 1759597169734,
     "user": {
      "displayName": "Abhinandan M.",
      "userId": "04846194388741941952"
     },
     "user_tz": -330
    },
    "id": "sGgA10RzKal0",
    "outputId": "5f950a87-d4e6-4635-c0e8-d801a2489cdc"
   },
   "outputs": [
    {
     "data": {
      "text/plain": [
       "torch.Size([3, 2])"
      ]
     },
     "execution_count": 46,
     "metadata": {},
     "output_type": "execute_result"
    }
   ],
   "source": [
    "# shape,size of tensor_A, tensor_B\n",
    "tensor_A.shape\n",
    "tensor_B.shape"
   ]
  },
  {
   "cell_type": "code",
   "execution_count": null,
   "metadata": {
    "colab": {
     "base_uri": "https://localhost:8080/",
     "height": 158
    },
    "executionInfo": {
     "elapsed": 102,
     "status": "error",
     "timestamp": 1759597193990,
     "user": {
      "displayName": "Abhinandan M.",
      "userId": "04846194388741941952"
     },
     "user_tz": -330
    },
    "id": "SX2tPZBNKhej",
    "outputId": "ac284763-f202-4419-b412-ea03a7792bde"
   },
   "outputs": [
    {
     "ename": "RuntimeError",
     "evalue": "mat1 and mat2 shapes cannot be multiplied (3x2 and 3x2)",
     "output_type": "error",
     "traceback": [
      "\u001b[0;31m---------------------------------------------------------------------------\u001b[0m",
      "\u001b[0;31mRuntimeError\u001b[0m                              Traceback (most recent call last)",
      "\u001b[0;32m/tmp/ipython-input-1813179354.py\u001b[0m in \u001b[0;36m<cell line: 0>\u001b[0;34m()\u001b[0m\n\u001b[1;32m      1\u001b[0m \u001b[0;31m# matrix multiplication of tensor_A, tensor_B\u001b[0m\u001b[0;34m\u001b[0m\u001b[0;34m\u001b[0m\u001b[0m\n\u001b[0;32m----> 2\u001b[0;31m \u001b[0mtorch\u001b[0m\u001b[0;34m.\u001b[0m\u001b[0mmatmul\u001b[0m\u001b[0;34m(\u001b[0m\u001b[0mtensor_A\u001b[0m\u001b[0;34m,\u001b[0m \u001b[0mtensor_B\u001b[0m\u001b[0;34m)\u001b[0m\u001b[0;34m\u001b[0m\u001b[0;34m\u001b[0m\u001b[0m\n\u001b[0m",
      "\u001b[0;31mRuntimeError\u001b[0m: mat1 and mat2 shapes cannot be multiplied (3x2 and 3x2)"
     ]
    }
   ],
   "source": [
    "# matrix multiplication of tensor_A, tensor_B\n",
    "# same size of matrix multiplication will throw error\n",
    "torch.matmul(tensor_A, tensor_B)"
   ]
  },
  {
   "cell_type": "code",
   "execution_count": null,
   "metadata": {
    "colab": {
     "base_uri": "https://localhost:8080/"
    },
    "executionInfo": {
     "elapsed": 27,
     "status": "ok",
     "timestamp": 1759597302164,
     "user": {
      "displayName": "Abhinandan M.",
      "userId": "04846194388741941952"
     },
     "user_tz": -330
    },
    "id": "ORGqey_AKx0s",
    "outputId": "2e505ea2-bf0f-417f-c1a2-be44a02c21f2"
   },
   "outputs": [
    {
     "data": {
      "text/plain": [
       "tensor([[0.4105, 0.9062, 0.4656],\n",
       "        [0.2026, 0.2846, 0.3088]])"
      ]
     },
     "execution_count": 51,
     "metadata": {},
     "output_type": "execute_result"
    }
   ],
   "source": [
    "# changing tensor_B's shape\n",
    "tensor_C=tensor_B.T\n",
    "tensor_C"
   ]
  },
  {
   "cell_type": "code",
   "execution_count": null,
   "metadata": {
    "colab": {
     "base_uri": "https://localhost:8080/"
    },
    "executionInfo": {
     "elapsed": 9,
     "status": "ok",
     "timestamp": 1759597306769,
     "user": {
      "displayName": "Abhinandan M.",
      "userId": "04846194388741941952"
     },
     "user_tz": -330
    },
    "id": "jNC8WSLBK61E",
    "outputId": "4680a7e9-e29d-4695-8e5e-89bc76597a9e"
   },
   "outputs": [
    {
     "data": {
      "text/plain": [
       "torch.Size([2, 3])"
      ]
     },
     "execution_count": 52,
     "metadata": {},
     "output_type": "execute_result"
    }
   ],
   "source": [
    "tensor_C.shape"
   ]
  },
  {
   "cell_type": "code",
   "execution_count": null,
   "metadata": {
    "colab": {
     "base_uri": "https://localhost:8080/"
    },
    "executionInfo": {
     "elapsed": 47,
     "status": "ok",
     "timestamp": 1759597335609,
     "user": {
      "displayName": "Abhinandan M.",
      "userId": "04846194388741941952"
     },
     "user_tz": -330
    },
    "id": "MIQOaQ9qLDW7",
    "outputId": "4f8d2bf3-120d-4036-b372-126f6128a276"
   },
   "outputs": [
    {
     "data": {
      "text/plain": [
       "tensor([[0.1040, 0.1497, 0.1567],\n",
       "        [0.3462, 0.7502, 0.3995],\n",
       "        [0.4622, 0.9475, 0.5597]])"
      ]
     },
     "execution_count": 53,
     "metadata": {},
     "output_type": "execute_result"
    }
   ],
   "source": [
    "# matrix multiplication of tensor_A, tensor_C\n",
    "torch.matmul(tensor_A, tensor_C)\n"
   ]
  },
  {
   "cell_type": "code",
   "execution_count": null,
   "metadata": {
    "colab": {
     "base_uri": "https://localhost:8080/"
    },
    "executionInfo": {
     "elapsed": 102,
     "status": "ok",
     "timestamp": 1759597765701,
     "user": {
      "displayName": "Abhinandan M.",
      "userId": "04846194388741941952"
     },
     "user_tz": -330
    },
    "id": "pR1KBxztLz98",
    "outputId": "92b8f91b-dac8-458d-f142-0c8250863330"
   },
   "outputs": [
    {
     "name": "stdout",
     "output_type": "stream",
     "text": [
      "torch.Size([3, 2])\n",
      "tensor([[ 0.8166,  0.4130,  0.4094,  0.1004,  0.2971,  0.1762],\n",
      "        [ 1.0061,  0.0194,  0.2293, -0.3395,  0.9992,  0.6081],\n",
      "        [ 1.2746,  0.2370,  0.2647, -0.2252,  0.8767,  0.7200]],\n",
      "       grad_fn=<AddmmBackward0>)\n",
      "torch.Size([3, 6])\n"
     ]
    }
   ],
   "source": [
    "# some special cases try\n",
    "# we'll come into it in later parts\n",
    "torch.manual_seed(42)\n",
    "# This is used for matrix multiplication\n",
    "linear=torch.nn.Linear(in_features=2, # in_feature: matches the inner dimention of input\n",
    "                       out_features=6 # out_features: describe other values\n",
    "                       )\n",
    "X=tensor_A\n",
    "print(X.shape)\n",
    "output=linear(X)\n",
    "print(output)\n",
    "print(output.shape)"
   ]
  },
  {
   "cell_type": "markdown",
   "metadata": {
    "id": "G6kUMqeLNNbV"
   },
   "source": [
    "#Finding min, max, mean etc..."
   ]
  },
  {
   "cell_type": "code",
   "execution_count": null,
   "metadata": {
    "colab": {
     "base_uri": "https://localhost:8080/"
    },
    "executionInfo": {
     "elapsed": 18,
     "status": "ok",
     "timestamp": 1759598021040,
     "user": {
      "displayName": "Abhinandan M.",
      "userId": "04846194388741941952"
     },
     "user_tz": -330
    },
    "id": "9_Tg4JCMNUYt",
    "outputId": "cc837c11-f8d7-445a-86b3-cc1e64568c6d"
   },
   "outputs": [
    {
     "name": "stdout",
     "output_type": "stream",
     "text": [
      "tensor([ 1.0000,  1.5000,  2.0000,  2.5000,  3.0000,  3.5000,  4.0000,  4.5000,\n",
      "         5.0000,  5.5000,  6.0000,  6.5000,  7.0000,  7.5000,  8.0000,  8.5000,\n",
      "         9.0000,  9.5000, 10.0000, 10.5000])\n",
      "tensor(1.)\n",
      "tensor(10.5000)\n",
      "tensor(5.7500)\n",
      "tensor(115.)\n"
     ]
    }
   ],
   "source": [
    "# finding min\n",
    "x=torch.arange(1,11,0.5)\n",
    "print(x)\n",
    "# max value\n",
    "print(x.min())\n",
    "print(x.max())\n",
    "print(x.type(torch.float32).mean())\n",
    "print(x.sum())"
   ]
  },
  {
   "cell_type": "code",
   "execution_count": null,
   "metadata": {
    "colab": {
     "base_uri": "https://localhost:8080/"
    },
    "executionInfo": {
     "elapsed": 18,
     "status": "ok",
     "timestamp": 1759598115865,
     "user": {
      "displayName": "Abhinandan M.",
      "userId": "04846194388741941952"
     },
     "user_tz": -330
    },
    "id": "4woVviSGN1hc",
    "outputId": "42d33563-b816-4840-ca50-42eec7462128"
   },
   "outputs": [
    {
     "data": {
      "text/plain": [
       "(<module 'torch' from '/usr/local/lib/python3.12/dist-packages/torch/__init__.py'>,\n",
       " tensor(1.),\n",
       " tensor(10.5000),\n",
       " tensor(5.7500),\n",
       " tensor(115.))"
      ]
     },
     "execution_count": 68,
     "metadata": {},
     "output_type": "execute_result"
    }
   ],
   "source": [
    "# above examples in another way\n",
    "torch,min(x), torch.max(x), torch.mean(x.type(torch.float32)), torch.sum(x)"
   ]
  },
  {
   "cell_type": "code",
   "execution_count": null,
   "metadata": {
    "colab": {
     "base_uri": "https://localhost:8080/"
    },
    "executionInfo": {
     "elapsed": 36,
     "status": "ok",
     "timestamp": 1759598185183,
     "user": {
      "displayName": "Abhinandan M.",
      "userId": "04846194388741941952"
     },
     "user_tz": -330
    },
    "id": "wgzCGp-UOPTt",
    "outputId": "786d4c97-3e20-4c21-d5ff-eec2ed1ab9c6"
   },
   "outputs": [
    {
     "name": "stdout",
     "output_type": "stream",
     "text": [
      "tensor(19)\n",
      "tensor(0)\n"
     ]
    }
   ],
   "source": [
    "# we can also find positional min, max (index at where min, max value appeared)\n",
    "print(x.argmax())\n",
    "print(x.argmin())"
   ]
  },
  {
   "cell_type": "markdown",
   "metadata": {
    "id": "1Ubbl9i7PDC6"
   },
   "source": [
    "#Reshape, stack, squeez, unsqueez"
   ]
  },
  {
   "cell_type": "code",
   "execution_count": null,
   "metadata": {
    "colab": {
     "base_uri": "https://localhost:8080/"
    },
    "executionInfo": {
     "elapsed": 24,
     "status": "ok",
     "timestamp": 1759598845502,
     "user": {
      "displayName": "Abhinandan M.",
      "userId": "04846194388741941952"
     },
     "user_tz": -330
    },
    "id": "Vc09kitHPSou",
    "outputId": "38dad573-143d-4d35-8fb0-46736fd2f306"
   },
   "outputs": [
    {
     "name": "stdout",
     "output_type": "stream",
     "text": [
      "tensor([1., 2., 3., 4., 5., 6.])\n",
      "torch.Size([6])\n",
      "tensor([[1., 2., 3., 4., 5., 6.]])\n",
      "torch.Size([1, 6])\n",
      "tensor([[1., 2., 3.],\n",
      "        [4., 5., 6.]])\n",
      "torch.Size([2, 3])\n",
      "tensor([[1., 2.],\n",
      "        [3., 4.],\n",
      "        [5., 6.]])\n",
      "torch.Size([3, 2])\n",
      "tensor([1., 2., 3., 4., 5., 6.])\n"
     ]
    }
   ],
   "source": [
    "# the need of reshaping\n",
    "t1=torch.arange(1,7,dtype=torch.float32)\n",
    "print(t1)\n",
    "print(t1.shape)\n",
    "\n",
    "# reshaping tensor t1\n",
    "t2=t1.reshape(1,6)\n",
    "print(t2)\n",
    "print(t2.shape)\n",
    "\n",
    "t3=t1.reshape(2,3)\n",
    "print(t3)\n",
    "print(t3.shape)\n",
    "\n",
    "t4=t1.reshape(3,2)\n",
    "print(t4)\n",
    "print(t4.shape)\n"
   ]
  },
  {
   "cell_type": "code",
   "execution_count": null,
   "metadata": {
    "colab": {
     "base_uri": "https://localhost:8080/"
    },
    "executionInfo": {
     "elapsed": 100,
     "status": "ok",
     "timestamp": 1759598924127,
     "user": {
      "displayName": "Abhinandan M.",
      "userId": "04846194388741941952"
     },
     "user_tz": -330
    },
    "id": "xmUB7FbbQ_9V",
    "outputId": "8ba303ae-a571-4edb-e94f-67c7560eebdf"
   },
   "outputs": [
    {
     "name": "stdout",
     "output_type": "stream",
     "text": [
      "tensor([[1., 2., 3., 4., 5., 6.]])\n",
      "torch.Size([1, 6])\n",
      "tensor([1., 2., 3., 4., 5., 6.])\n",
      "torch.Size([6])\n"
     ]
    }
   ],
   "source": [
    "# another method similar to reshape\n",
    "z=t1.view(1,6)\n",
    "print(z)\n",
    "print(z.shape)\n",
    "\n",
    "# but for t1\n",
    "print(t1)\n",
    "print(t1.shape)"
   ]
  },
  {
   "cell_type": "code",
   "execution_count": null,
   "metadata": {
    "colab": {
     "base_uri": "https://localhost:8080/"
    },
    "executionInfo": {
     "elapsed": 61,
     "status": "ok",
     "timestamp": 1759598989040,
     "user": {
      "displayName": "Abhinandan M.",
      "userId": "04846194388741941952"
     },
     "user_tz": -330
    },
    "id": "s_joW68iRUvb",
    "outputId": "ac147e86-9cb8-46d5-94af-2308bd46eeaf"
   },
   "outputs": [
    {
     "name": "stdout",
     "output_type": "stream",
     "text": [
      "tensor(1.)\n",
      "tensor([1.])\n"
     ]
    }
   ],
   "source": [
    "# changing the value of z\n",
    "# method 1\n",
    "print(z[0][0])\n",
    "# method 2\n",
    "print(z[:,0])"
   ]
  },
  {
   "cell_type": "code",
   "execution_count": null,
   "metadata": {
    "colab": {
     "base_uri": "https://localhost:8080/"
    },
    "executionInfo": {
     "elapsed": 33,
     "status": "ok",
     "timestamp": 1759599118909,
     "user": {
      "displayName": "Abhinandan M.",
      "userId": "04846194388741941952"
     },
     "user_tz": -330
    },
    "id": "joBg8qFVRpTL",
    "outputId": "43523d21-59e5-436b-e15b-08f6a6e76f4a"
   },
   "outputs": [
    {
     "name": "stdout",
     "output_type": "stream",
     "text": [
      "tensor([[5., 2., 3., 4., 5., 6.]])\n",
      "tensor([5., 2., 3., 4., 5., 6.])\n"
     ]
    }
   ],
   "source": [
    "# changin value\n",
    "# changing the view (z), also change (x)\n",
    "z[:,0]=5\n",
    "print(z)\n",
    "print(t1)"
   ]
  },
  {
   "cell_type": "code",
   "execution_count": null,
   "metadata": {
    "colab": {
     "base_uri": "https://localhost:8080/"
    },
    "executionInfo": {
     "elapsed": 19,
     "status": "ok",
     "timestamp": 1759599323804,
     "user": {
      "displayName": "Abhinandan M.",
      "userId": "04846194388741941952"
     },
     "user_tz": -330
    },
    "id": "kOAyUTYhR9-1",
    "outputId": "ba0e0474-0760-4217-e93e-d74de5a68666"
   },
   "outputs": [
    {
     "name": "stdout",
     "output_type": "stream",
     "text": [
      "tensor([1., 2., 3., 4., 5.])\n",
      "tensor([[1., 1., 1.],\n",
      "        [2., 2., 2.],\n",
      "        [3., 3., 3.],\n",
      "        [4., 4., 4.],\n",
      "        [5., 5., 5.]])\n",
      "torch.Size([5, 3])\n"
     ]
    }
   ],
   "source": [
    "# stacking tensor one upon one\n",
    "x_1=torch.arange(1,6, dtype=torch.float32)\n",
    "print(x_1)\n",
    "x_1_stacked=torch.stack([x_1,x_1,x_1],dim=1)\n",
    "print(x_1_stacked)\n",
    "print(x_1_stacked.shape)"
   ]
  },
  {
   "cell_type": "code",
   "execution_count": null,
   "metadata": {
    "colab": {
     "base_uri": "https://localhost:8080/"
    },
    "executionInfo": {
     "elapsed": 39,
     "status": "ok",
     "timestamp": 1759600785975,
     "user": {
      "displayName": "Abhinandan M.",
      "userId": "04846194388741941952"
     },
     "user_tz": -330
    },
    "id": "27d5z4ckVgGU",
    "outputId": "0191ffbc-7cf2-4bc1-b338-bfd34f046379"
   },
   "outputs": [
    {
     "name": "stdout",
     "output_type": "stream",
     "text": [
      "tensor([[[0.6790, 0.9155, 0.2418, 0.1591, 0.7653],\n",
      "         [0.2979, 0.8035, 0.3813, 0.7860, 0.1115],\n",
      "         [0.2477, 0.6524, 0.6057, 0.3725, 0.7980]]])\n",
      "torch.Size([1, 3, 5])\n",
      "tensor([[0.6790, 0.9155, 0.2418, 0.1591, 0.7653],\n",
      "        [0.2979, 0.8035, 0.3813, 0.7860, 0.1115],\n",
      "        [0.2477, 0.6524, 0.6057, 0.3725, 0.7980]])\n",
      "torch.Size([3, 5])\n"
     ]
    }
   ],
   "source": [
    "# torch.squeez()\n",
    "# it removes 1 dimention from tensor\n",
    "pre_squeez=torch.rand(size=(1,3,5))\n",
    "print(pre_squeez)\n",
    "print(pre_squeez.shape)\n",
    "\n",
    "post_squeez=pre_squeez.squeeze()\n",
    "print(post_squeez)\n",
    "print(post_squeez.shape)"
   ]
  },
  {
   "cell_type": "code",
   "execution_count": null,
   "metadata": {
    "colab": {
     "base_uri": "https://localhost:8080/"
    },
    "executionInfo": {
     "elapsed": 18,
     "status": "ok",
     "timestamp": 1759601004984,
     "user": {
      "displayName": "Abhinandan M.",
      "userId": "04846194388741941952"
     },
     "user_tz": -330
    },
    "id": "E8SPg5wGYZNe",
    "outputId": "32e8d9d1-1be8-4bd7-9c94-39905bde4466"
   },
   "outputs": [
    {
     "name": "stdout",
     "output_type": "stream",
     "text": [
      "tensor([[0.6790, 0.9155, 0.2418, 0.1591, 0.7653],\n",
      "        [0.2979, 0.8035, 0.3813, 0.7860, 0.1115],\n",
      "        [0.2477, 0.6524, 0.6057, 0.3725, 0.7980]])\n",
      "torch.Size([3, 5])\n",
      "tensor([[[0.6790, 0.9155, 0.2418, 0.1591, 0.7653],\n",
      "         [0.2979, 0.8035, 0.3813, 0.7860, 0.1115],\n",
      "         [0.2477, 0.6524, 0.6057, 0.3725, 0.7980]]])\n",
      "torch.Size([1, 3, 5])\n"
     ]
    }
   ],
   "source": [
    "# we can add extra 1 dimention with unsqueez\n",
    "print(post_squeez)\n",
    "print(post_squeez.shape)\n",
    "post_unsqueeze=post_squeez.unsqueeze(dim=0)\n",
    "print(post_unsqueeze)\n",
    "print(post_unsqueeze.shape)"
   ]
  },
  {
   "cell_type": "code",
   "execution_count": null,
   "metadata": {
    "colab": {
     "base_uri": "https://localhost:8080/"
    },
    "executionInfo": {
     "elapsed": 12,
     "status": "ok",
     "timestamp": 1759601278296,
     "user": {
      "displayName": "Abhinandan M.",
      "userId": "04846194388741941952"
     },
     "user_tz": -330
    },
    "id": "mWI7ekpXZSDk",
    "outputId": "5601773b-11aa-491d-e505-af15c57f9f96"
   },
   "outputs": [
    {
     "name": "stdout",
     "output_type": "stream",
     "text": [
      "torch.Size([224, 224, 3])\n",
      "torch.Size([3, 224, 224])\n"
     ]
    }
   ],
   "source": [
    "# in Tensor, we can change the axis\n",
    "x_original=torch.rand(size=(224,224,3))\n",
    "# print(x_original)\n",
    "print(x_original.shape)\n",
    "# 0->1, 1->2, 2->0 changes\n",
    "x_permuted=x_original.permute(2,0,1)\n",
    "print(x_permuted.shape)"
   ]
  },
  {
   "cell_type": "markdown",
   "metadata": {
    "id": "LcEB2WTkanAT"
   },
   "source": [
    "#Indexing"
   ]
  },
  {
   "cell_type": "code",
   "execution_count": null,
   "metadata": {
    "colab": {
     "base_uri": "https://localhost:8080/"
    },
    "executionInfo": {
     "elapsed": 24,
     "status": "ok",
     "timestamp": 1759602274694,
     "user": {
      "displayName": "Abhinandan M.",
      "userId": "04846194388741941952"
     },
     "user_tz": -330
    },
    "id": "Mm9WTDARaqfj",
    "outputId": "607ab9f7-072e-4137-c394-924475c77f37"
   },
   "outputs": [
    {
     "name": "stdout",
     "output_type": "stream",
     "text": [
      "tensor([[[0.5066, 0.6647, 0.6705],\n",
      "         [0.7198, 0.9719, 0.2247],\n",
      "         [0.3770, 0.1259, 0.5085]]])\n",
      "tensor(0.6647)\n",
      "tensor(0.5085)\n",
      "tensor([[0.6647, 0.9719, 0.1259]])\n",
      "tensor([0.6647])\n"
     ]
    }
   ],
   "source": [
    "# selecting a data from tensor\n",
    "x=torch.rand(size=(1,3,3))\n",
    "print(x)\n",
    "print(x[0][0][1])\n",
    "print(x[0][2][2])\n",
    "print(x[:,:,1])\n",
    "print(x[:,0,1])"
   ]
  },
  {
   "cell_type": "markdown",
   "metadata": {
    "id": "DrpQGjXKeMrD"
   },
   "source": [
    "#PyTorch Tensors & Numpy"
   ]
  },
  {
   "cell_type": "code",
   "execution_count": null,
   "metadata": {
    "colab": {
     "base_uri": "https://localhost:8080/"
    },
    "executionInfo": {
     "elapsed": 8,
     "status": "ok",
     "timestamp": 1759602456918,
     "user": {
      "displayName": "Abhinandan M.",
      "userId": "04846194388741941952"
     },
     "user_tz": -330
    },
    "id": "77LuGV1GeP8M",
    "outputId": "18311a9f-16ef-4e50-e8a1-5f3da0b90906"
   },
   "outputs": [
    {
     "name": "stdout",
     "output_type": "stream",
     "text": [
      "[1 2 3 4 5]\n",
      "tensor([1, 2, 3, 4, 5])\n"
     ]
    }
   ],
   "source": [
    "# both Numpy, PyTorch is used in computing\n",
    "# we can change a numpy array into tensor\n",
    "# or a tensor into array\n",
    "\n",
    "import numpy as np\n",
    "np_array=np.arange(1,6)\n",
    "print(np_array)\n",
    "torch_tensor=torch.arange(1,6)\n",
    "print(torch_tensor)"
   ]
  },
  {
   "cell_type": "code",
   "execution_count": null,
   "metadata": {
    "colab": {
     "base_uri": "https://localhost:8080/"
    },
    "executionInfo": {
     "elapsed": 28,
     "status": "ok",
     "timestamp": 1759602582084,
     "user": {
      "displayName": "Abhinandan M.",
      "userId": "04846194388741941952"
     },
     "user_tz": -330
    },
    "id": "dRYTzajxesQz",
    "outputId": "03a3ed46-7a5c-4381-dc37-1d9521d63857"
   },
   "outputs": [
    {
     "name": "stdout",
     "output_type": "stream",
     "text": [
      "tensor([1., 2., 3., 4., 5.])\n"
     ]
    }
   ],
   "source": [
    "# changing np_array into tensor\n",
    "# torch.form_numpy(ndarray): change nd_array into tensor\n",
    "# by defau;t numpy array has data of float64\n",
    "# for pytorch, we need to convert it into float32\n",
    "np_array_tensor=torch.from_numpy(np_array).type(torch.float32)\n",
    "print(np_array_tensor)"
   ]
  },
  {
   "cell_type": "code",
   "execution_count": null,
   "metadata": {
    "colab": {
     "base_uri": "https://localhost:8080/"
    },
    "executionInfo": {
     "elapsed": 8,
     "status": "ok",
     "timestamp": 1759602663278,
     "user": {
      "displayName": "Abhinandan M.",
      "userId": "04846194388741941952"
     },
     "user_tz": -330
    },
    "id": "SBMrUJ42fTVd",
    "outputId": "801a5f9a-2c6c-4e8f-8a39-88fc7a8e39ad"
   },
   "outputs": [
    {
     "name": "stdout",
     "output_type": "stream",
     "text": [
      "tensor([0.0551, 0.8775, 0.1657, 0.4708, 0.2254])\n"
     ]
    }
   ],
   "source": [
    "# from pytorch tensor to numpy ndarray\n",
    "py_tensor=torch.rand(size=(5,))\n",
    "print(py_tensor)"
   ]
  },
  {
   "cell_type": "code",
   "execution_count": null,
   "metadata": {
    "colab": {
     "base_uri": "https://localhost:8080/"
    },
    "executionInfo": {
     "elapsed": 27,
     "status": "ok",
     "timestamp": 1759602727412,
     "user": {
      "displayName": "Abhinandan M.",
      "userId": "04846194388741941952"
     },
     "user_tz": -330
    },
    "id": "PhlcmxvPfglp",
    "outputId": "2c4391d4-d6f5-483c-8e32-b0535ca1be9a"
   },
   "outputs": [
    {
     "name": "stdout",
     "output_type": "stream",
     "text": [
      "[0.05508381 0.8775488  0.16571355 0.47083282 0.22542948]\n"
     ]
    }
   ],
   "source": [
    "# changing py_tensor into nd_array, using 'tensor_name'.numpy()\n",
    "numpy_tensor=py_tensor.numpy()\n",
    "print(numpy_tensor)"
   ]
  },
  {
   "cell_type": "markdown",
   "metadata": {
    "id": "gAVQ5XRXgeXX"
   },
   "source": [
    "#Reproducibility"
   ]
  },
  {
   "cell_type": "code",
   "execution_count": null,
   "metadata": {
    "colab": {
     "base_uri": "https://localhost:8080/"
    },
    "executionInfo": {
     "elapsed": 10,
     "status": "ok",
     "timestamp": 1759603204848,
     "user": {
      "displayName": "Abhinandan M.",
      "userId": "04846194388741941952"
     },
     "user_tz": -330
    },
    "id": "r0ZRqEv6ghWy",
    "outputId": "f8490038-1d8f-4448-d02b-065f0f37a93e"
   },
   "outputs": [
    {
     "name": "stdout",
     "output_type": "stream",
     "text": [
      "tensor([[0.6757, 0.0170, 0.1077],\n",
      "        [0.2836, 0.9033, 0.0818],\n",
      "        [0.2888, 0.7516, 0.3333]])\n",
      "tensor([[0.8353, 0.2945, 0.7621],\n",
      "        [0.7084, 0.3098, 0.1923],\n",
      "        [0.5105, 0.1072, 0.0307]])\n"
     ]
    }
   ],
   "source": [
    "# Reproducibility\n",
    "# Let's take an example\n",
    "# let say, you make any code, that code runs on your system well, and your frined, wanted to try it out on his/her system\n",
    "# but what if, your code gives a result in your system, but give different result on your friends system\n",
    "# to tackle this isse, reproducibility, come into play.\n",
    "# it makes result stable\n",
    "\n",
    "# example\n",
    "random_tensor_1=torch.rand(size=(3,3))\n",
    "print(random_tensor_1)\n",
    "\n",
    "# output is always different of random_tensor_1 & random_tensor_2\n",
    "\n",
    "random_tensor_2=torch.rand(size=(3,3))\n",
    "print(random_tensor_2)"
   ]
  },
  {
   "cell_type": "code",
   "execution_count": null,
   "metadata": {
    "colab": {
     "base_uri": "https://localhost:8080/"
    },
    "executionInfo": {
     "elapsed": 8,
     "status": "ok",
     "timestamp": 1759603381831,
     "user": {
      "displayName": "Abhinandan M.",
      "userId": "04846194388741941952"
     },
     "user_tz": -330
    },
    "id": "Oi8YEKpLhssL",
    "outputId": "48f7be9e-9788-48b3-e606-c7ef74669399"
   },
   "outputs": [
    {
     "name": "stdout",
     "output_type": "stream",
     "text": [
      "tensor([[0.8823, 0.9150, 0.3829],\n",
      "        [0.9593, 0.3904, 0.6009],\n",
      "        [0.2566, 0.7936, 0.9408]])\n",
      "tensor([[0.8823, 0.9150, 0.3829],\n",
      "        [0.9593, 0.3904, 0.6009],\n",
      "        [0.2566, 0.7936, 0.9408]])\n"
     ]
    }
   ],
   "source": [
    "# by initializing random_seed, we can stabilize this result\n",
    "RANDOM_SEED=42\n",
    "torch.manual_seed(seed=RANDOM_SEED)\n",
    "random_tensor_3=torch.rand(size=(3,3))\n",
    "\n",
    "torch.manual_seed(seed=RANDOM_SEED)\n",
    "random_tensor_4=torch.rand(size=(3,3))\n",
    "\n",
    "print(random_tensor_3)\n",
    "print(random_tensor_4)"
   ]
  },
  {
   "cell_type": "code",
   "execution_count": null,
   "metadata": {
    "colab": {
     "base_uri": "https://localhost:8080/"
    },
    "executionInfo": {
     "elapsed": 19,
     "status": "ok",
     "timestamp": 1759603508286,
     "user": {
      "displayName": "Abhinandan M.",
      "userId": "04846194388741941952"
     },
     "user_tz": -330
    },
    "id": "QIS7UlK6ilyE",
    "outputId": "1d66918a-637e-4d88-b421-593439ee9e74"
   },
   "outputs": [
    {
     "data": {
      "text/plain": [
       "False"
      ]
     },
     "execution_count": 148,
     "metadata": {},
     "output_type": "execute_result"
    }
   ],
   "source": [
    "torch.cuda.is_available()"
   ]
  }
 ],
 "metadata": {
  "colab": {
   "authorship_tag": "ABX9TyOPL6tx8c5FRjzT1ah/sLiw",
   "collapsed_sections": [
    "Fbr9nXvoQZ-y",
    "iwK4Kwq_UNga",
    "8Y1XFi44W7aT",
    "8cL8mK_hZ3CK",
    "uBSHaC1WclH8",
    "Ij4OhYCfezGL",
    "G6kUMqeLNNbV",
    "1Ubbl9i7PDC6",
    "LcEB2WTkanAT",
    "DrpQGjXKeMrD"
   ],
   "provenance": []
  },
  "kernelspec": {
   "display_name": "env",
   "language": "python",
   "name": "python3"
  },
  "language_info": {
   "codemirror_mode": {
    "name": "ipython",
    "version": 3
   },
   "file_extension": ".py",
   "mimetype": "text/x-python",
   "name": "python",
   "nbconvert_exporter": "python",
   "pygments_lexer": "ipython3",
   "version": "3.13.1"
  }
 },
 "nbformat": 4,
 "nbformat_minor": 0
}

{
 "cells": [
  {
   "cell_type": "markdown",
   "id": "c40601b8",
   "metadata": {},
   "source": [
    "**Model_1: adding some Non-Linearity**"
   ]
  },
  {
   "cell_type": "code",
   "execution_count": 2,
   "id": "cb5a22fc",
   "metadata": {},
   "outputs": [],
   "source": [
    "# setting up train test data\n",
    "import torchvision\n",
    "from torchvision import datasets\n",
    "from torchvision.transforms import ToTensor\n",
    "\n",
    "train_data=datasets.FashionMNIST(\n",
    "    root='data',\n",
    "    train=True,\n",
    "    download=False,\n",
    "    transform=ToTensor(),\n",
    "    target_transform=None\n",
    ")\n",
    "\n",
    "\n",
    "test_data=datasets.FashionMNIST(\n",
    "    root='data',\n",
    "    train=False,\n",
    "    transform=ToTensor(),\n",
    "    download=False    \n",
    ")"
   ]
  },
  {
   "cell_type": "code",
   "execution_count": null,
   "id": "dac9be8c",
   "metadata": {},
   "outputs": [
    {
     "name": "stdout",
     "output_type": "stream",
     "text": [
      "9\n"
     ]
    }
   ],
   "source": [
    "image,labels=train_data[0]"
   ]
  },
  {
   "cell_type": "code",
   "execution_count": 6,
   "id": "41d1f720",
   "metadata": {},
   "outputs": [
    {
     "data": {
      "text/plain": [
       "(np.float64(-0.5), np.float64(27.5), np.float64(27.5), np.float64(-0.5))"
      ]
     },
     "execution_count": 6,
     "metadata": {},
     "output_type": "execute_result"
    },
    {
     "data": {
      "image/png": "[encoded data removed]",
      "text/plain": [
       "<Figure size 640x480 with 1 Axes>"
      ]
     },
     "metadata": {},
     "output_type": "display_data"
    }
   ],
   "source": [
    "import matplotlib.pyplot as plt\n",
    "plt.imshow(image.squeeze())\n",
    "plt.title(label=labels)\n",
    "plt.axis(False)"
   ]
  },
  {
   "cell_type": "code",
   "execution_count": 7,
   "id": "f2e7f40b",
   "metadata": {},
   "outputs": [
    {
     "name": "stdout",
     "output_type": "stream",
     "text": [
      "['T-shirt/top', 'Trouser', 'Pullover', 'Dress', 'Coat', 'Sandal', 'Shirt', 'Sneaker', 'Bag', 'Ankle boot']\n"
     ]
    }
   ],
   "source": [
    "# class names of training dataset\n",
    "class_names=train_data.classes\n",
    "print(class_names)"
   ]
  },
  {
   "cell_type": "code",
   "execution_count": 9,
   "id": "67395798",
   "metadata": {},
   "outputs": [
    {
     "name": "stdout",
     "output_type": "stream",
     "text": [
      "60000\n",
      "60000\n",
      "10000\n",
      "10000\n"
     ]
    }
   ],
   "source": [
    "print(len(train_data.targets))\n",
    "print(len(train_data.data))\n",
    "print(len(test_data.targets))\n",
    "print(len(test_data.data))"
   ]
  },
  {
   "cell_type": "code",
   "execution_count": 39,
   "id": "224fed75",
   "metadata": {},
   "outputs": [],
   "source": [
    "# for working with models, we'll use dataloader\n",
    "from torch.utils.data import DataLoader\n",
    "BATCH_SIZE=32\n",
    "\n",
    "train_dataloader=DataLoader(dataset=train_data,batch_size=BATCH_SIZE,shuffle=True)\n",
    "test_dataloader=DataLoader(dataset=test_data,batch_size=BATCH_SIZE,shuffle=False)"
   ]
  },
  {
   "cell_type": "code",
   "execution_count": 40,
   "id": "3b680791",
   "metadata": {},
   "outputs": [
    {
     "name": "stdout",
     "output_type": "stream",
     "text": [
      "torch.Size([32, 1, 28, 28])\n",
      "tensor([2, 7, 9, 4, 8, 7, 7, 1, 0, 6, 4, 6, 3, 6, 8, 9, 9, 7, 1, 5, 1, 5, 2, 6,\n",
      "        4, 5, 9, 9, 8, 4, 5, 2])\n"
     ]
    }
   ],
   "source": [
    "# EXAMPLE, what Dataloader contains\n",
    "train_feature_batch, train_labels_batch=next(iter(train_dataloader))\n",
    "print(train_feature_batch.shape)\n",
    "print(train_labels_batch)"
   ]
  },
  {
   "cell_type": "code",
   "execution_count": 19,
   "id": "919591e4",
   "metadata": {},
   "outputs": [
    {
     "name": "stdout",
     "output_type": "stream",
     "text": [
      "cpu\n"
     ]
    }
   ],
   "source": [
    "# setting device\n",
    "import torch\n",
    "device='cuda' if torch.cuda.is_available() else 'cpu'\n",
    "print(device)"
   ]
  },
  {
   "cell_type": "code",
   "execution_count": 64,
   "id": "52131d08",
   "metadata": {},
   "outputs": [],
   "source": [
    "# model_1 building\n",
    "from torch import nn\n",
    "class FashionMNISTV1(nn.Module):\n",
    "    def __init__(self, input_layer:int, output_layer:int, hidden_layer:int):\n",
    "        super().__init__()\n",
    "        self.layer_stack=nn.Sequential(\n",
    "            nn.Flatten(),\n",
    "            nn.Linear(in_features=input_layer, out_features=hidden_layer),\n",
    "            nn.ReLU(), # Activation Function\n",
    "            nn.Linear(in_features=hidden_layer, out_features=output_layer),\n",
    "            nn.ReLU(),\n",
    "        )\n",
    "\n",
    "    def forward(self, x):\n",
    "        return self.layer_stack(x)\n"
   ]
  },
  {
   "cell_type": "code",
   "execution_count": 65,
   "id": "aa5b5d77",
   "metadata": {},
   "outputs": [
    {
     "data": {
      "text/plain": [
       "FashionMNISTV1(\n",
       "  (layer_stack): Sequential(\n",
       "    (0): Flatten(start_dim=1, end_dim=-1)\n",
       "    (1): Linear(in_features=784, out_features=10, bias=True)\n",
       "    (2): ReLU()\n",
       "    (3): Linear(in_features=10, out_features=10, bias=True)\n",
       "    (4): ReLU()\n",
       "  )\n",
       ")"
      ]
     },
     "execution_count": 65,
     "metadata": {},
     "output_type": "execute_result"
    }
   ],
   "source": [
    "model_1=FashionMNISTV1(input_layer=784,hidden_layer=10,output_layer=len(class_names))\n",
    "model_1.to(device)\n",
    "\n"
   ]
  },
  {
   "cell_type": "code",
   "execution_count": 66,
   "id": "3eecfa93",
   "metadata": {},
   "outputs": [],
   "source": [
    "# loss function, optimization\n",
    "loss_fn=nn.CrossEntropyLoss()\n",
    "optimization=torch.optim.SGD(params=model_1.parameters(),lr=0.1)"
   ]
  },
  {
   "cell_type": "code",
   "execution_count": 67,
   "id": "44dd74ce",
   "metadata": {},
   "outputs": [],
   "source": [
    "# accuracy function\n",
    "from helper_functions import accuracy_fn"
   ]
  },
  {
   "cell_type": "markdown",
   "id": "08959b1f",
   "metadata": {},
   "source": [
    "*Functionalizing Train Loop*"
   ]
  },
  {
   "cell_type": "code",
   "execution_count": 71,
   "id": "697d2416",
   "metadata": {},
   "outputs": [],
   "source": [
    "def training_loop(model:nn.Module,\n",
    "                 data_loader:torch.utils.data.DataLoader,\n",
    "                 loss_fn:nn.modules,\n",
    "                 accuracy_fn,\n",
    "                 optimizer:torch.optim.Optimizer,\n",
    "                 device:torch.device=device):\n",
    "    train_loss=0\n",
    "    train_acc=0\n",
    "    for batch,(X,y) in enumerate(data_loader):\n",
    "    \n",
    "        # into device CPU\n",
    "        X=X.to(device)\n",
    "        y=y.to(device)\n",
    "\n",
    "        model.train() # train\n",
    "        y_pred=model(X) # forward pass\n",
    "        loss=loss_fn(y_pred, y) # loss\n",
    "        train_loss+=loss  # train loss\n",
    "        train_acc+=accuracy_fn(y,y_pred.argmax(dim=1)) # train accuracy\n",
    "        optimizer.zero_grad() # zero grad\n",
    "        loss.backward() # backward propagation\n",
    "        optimizer.step() # updation\n",
    "    train_loss /= len(data_loader)\n",
    "    train_acc /= len(data_loader)\n",
    "    print(f\"Train loss: {train_loss:.5f} | Train accuracy: {train_acc:.2f}%\")\n"
   ]
  },
  {
   "cell_type": "markdown",
   "id": "2d7069fd",
   "metadata": {},
   "source": [
    "*Functionalizing Testing Loop*"
   ]
  },
  {
   "cell_type": "code",
   "execution_count": 72,
   "id": "d0ab84e4",
   "metadata": {},
   "outputs": [],
   "source": [
    "def testing_loop(model:nn.Module,\n",
    "                 data_loader:torch.utils.data.DataLoader,\n",
    "                 loss_fn:nn.Module,\n",
    "                 accuracy_fn,\n",
    "                 device:torch.device=device\n",
    "                 ):\n",
    "    test_loss,test_acc=0,0\n",
    "    model.eval()\n",
    "    with torch.inference_mode():\n",
    "        for X,y in data_loader:\n",
    "            X=X.to(device)\n",
    "            y=y.to(device)\n",
    "            test_pred=model(X) # forward pass\n",
    "            test_loss+=loss_fn(test_pred,y)\n",
    "            test_acc+=accuracy_fn(y,test_pred.argmax(dim=1))\n",
    "        test_loss/=len(data_loader)\n",
    "        test_acc/=len(data_loader)\n",
    "    print(f\"Test loss: {test_loss:.5f} | Test accuracy: {test_acc:.2f}%\\n\")"
   ]
  },
  {
   "cell_type": "markdown",
   "id": "c584f77a",
   "metadata": {},
   "source": [
    "*Training Testing Model*"
   ]
  },
  {
   "cell_type": "code",
   "execution_count": null,
   "id": "54879569",
   "metadata": {},
   "outputs": [
    {
     "name": "stdout",
     "output_type": "stream",
     "text": [
      "Epoch: 0\n",
      "---------\n",
      "Train loss: 0.43206 | Train accuracy: 84.54%\n",
      "Test loss: 0.43956 | Test accuracy: 84.34%\n",
      "\n",
      "Epoch: 1\n",
      "---------\n",
      "Train loss: 0.41945 | Train accuracy: 84.94%\n",
      "Test loss: 0.45322 | Test accuracy: 83.59%\n",
      "\n",
      "Epoch: 2\n",
      "---------\n",
      "Train loss: 0.40758 | Train accuracy: 85.47%\n",
      "Test loss: 0.43578 | Test accuracy: 84.63%\n",
      "\n"
     ]
    }
   ],
   "source": [
    "torch.manual_seed(42)\n",
    "epochs=3\n",
    "# from tqdm.auto import tqdm\n",
    "\n",
    "for epoch in (range(epochs)):\n",
    "    print(f\"Epoch: {epoch}\\n---------\")\n",
    "    training_loop(model=model_1,data_loader=train_dataloader,loss_fn=loss_fn,accuracy_fn=accuracy_fn,optimizer=optimization,device=device)\n",
    "    testing_loop(model=model_1,data_loader=test_dataloader,loss_fn=loss_fn,accuracy_fn=accuracy_fn,device=device)\n",
    "    "
   ]
  },
  {
   "cell_type": "markdown",
   "id": "39655f8d",
   "metadata": {},
   "source": [
    "*model_1 evaluation*"
   ]
  },
  {
   "cell_type": "code",
   "execution_count": 75,
   "id": "16f9d9fb",
   "metadata": {},
   "outputs": [],
   "source": [
    "torch.manual_seed(42)\n",
    "\n",
    "\n",
    "def model_evaluation(model: torch.nn.Module,\n",
    "                     data_loader: torch.utils.data.DataLoader,\n",
    "                     loss_fn: torch.nn.Module,\n",
    "                     accuracy_fn):\n",
    "\n",
    "    loss = 0\n",
    "    acc = 0\n",
    "    model.eval()\n",
    "    with torch.inference_mode():\n",
    "        for X, y in data_loader:\n",
    "            model_pred = model(X)\n",
    "            loss += loss_fn(model_pred, y)\n",
    "            acc += accuracy_fn(y_true=y, y_pred=model_pred.argmax(dim=1))\n",
    "        loss /= len(data_loader)\n",
    "        acc /= len(data_loader)\n",
    "\n",
    "    return {\"model_name\": model.__class__.__name__,  # only works when model was created with a class\n",
    "            \"model_loss\": loss.item(),\n",
    "            \"model_acc\": acc}"
   ]
  },
  {
   "cell_type": "code",
   "execution_count": 76,
   "id": "9c1bf73c",
   "metadata": {},
   "outputs": [
    {
     "name": "stdout",
     "output_type": "stream",
     "text": [
      "{'model_name': 'FashionMNISTV1', 'model_loss': 0.4357796907424927, 'model_acc': 84.63458466453675}\n"
     ]
    }
   ],
   "source": [
    "model_1_performance=model_evaluation(model=model_1,data_loader=test_dataloader,loss_fn=loss_fn,accuracy_fn=accuracy_fn)\n",
    "print(model_1_performance)\n",
    "\n",
    "\n"
   ]
  }
 ],
 "metadata": {
  "kernelspec": {
   "display_name": "env",
   "language": "python",
   "name": "python3"
  },
  "language_info": {
   "codemirror_mode": {
    "name": "ipython",
    "version": 3
   },
   "file_extension": ".py",
   "mimetype": "text/x-python",
   "name": "python",
   "nbconvert_exporter": "python",
   "pygments_lexer": "ipython3",
   "version": "3.13.1"
  }
 },
 "nbformat": 4,
 "nbformat_minor": 5
}

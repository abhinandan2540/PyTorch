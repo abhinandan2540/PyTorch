{
 "cells": [
  {
   "cell_type": "markdown",
   "id": "108056ea",
   "metadata": {},
   "source": [
    "**PyTorch Computer Vision Workflow**\n",
    "\n",
    "This outline details the steps for a complete computer vision project using PyTorch, from data loading to model evaluation and saving.\n",
    "\n",
    "| Step | Topic | Contents |\n",
    "| :--- | :--- | :--- |\n",
    "| **0** | **Computer Vision Libraries in PyTorch** | PyTorch has a bunch of built-in helpful computer vision libraries; let's check them out. |\n",
    "| **1** | **Load Data** | To practice computer vision, we'll start with some images of different pieces of clothing from **FashionMNIST**. |\n",
    "| **2** | **Prepare Data** | We've got some images; let's load them in with a PyTorch **`DataLoader`** so we can use them with our training loop. |\n",
    "| **3** | **Model 0: Building a Baseline Model** | Here we'll create a multi-class classification model to learn patterns in the data. We'll also choose a **loss function**, **optimizer**, and build a **training loop**. |\n",
    "| **4** | **Making Predictions and Evaluating Model 0** | Let's make some predictions with our baseline model and evaluate them. |\n",
    "| **5** | **Setup Device Agnostic Code for Future Models** | It's best practice to write **device-agnostic code** (CPU/GPU), so let's set it up. |\n",
    "| **6** | **Model 1: Adding Non-linearity** | Experimenting is a large part of machine learning; let's try and improve upon our baseline model by adding non-linear layers. |\n",
    "| **7** | **Model 2: Convolutional Neural Network (CNN)** | Time to get computer vision specific and introduce the powerful **Convolutional Neural Network (CNN)** architecture. |\n",
    "| **8** | **Comparing Our Models** | We've built three different models; let's compare them. |\n",
    "| **9** | **Evaluating Our Best Model** | Let's make some predictions on random images and evaluate our best model. |\n",
    "| **10** | **Making a Confusion Matrix** | A **confusion matrix** is a great way to evaluate a classification model; let's see how we can make one. |\n",
    "| **11** | **Saving and Loading the Best Performing Model** | Since we might want to use our model later, let's save it and make sure it loads back in correctly. |"
   ]
  },
  {
   "cell_type": "markdown",
   "id": "1ec0fc00",
   "metadata": {},
   "source": [
    "**Common PyTorch libraries for torchvision**\n",
    "\n",
    "This table outlines the core modules you'll typically use for computer vision tasks in PyTorch.\n",
    "\n",
    "| PyTorch Module | What Does It Do? |\n",
    "| :--- | :--- |\n",
    "| **`torchvision`** | Contains datasets, model architectures, and image transformations often used for computer vision problems. |\n",
    "| **`torchvision.datasets`** | Provides many example computer vision datasets (classification, detection, etc.) and base classes for **making custom datasets**. |\n",
    "| **`torchvision.models`** | Contains well-performing and commonly used **pre-trained computer vision model architectures** (like ResNet, VGG, etc.) implemented in PyTorch. |\n",
    "| **`torchvision.transforms`** | Contains common functions to **preprocess, normalize, and augment images** before they are used with a model. |\n",
    "| **`torch.utils.data.Dataset`** | The **base dataset class** for PyTorch. You often subclass this to handle your custom data. |\n",
    "| **`torch.utils.data.DataLoader`** | Creates a **Python iterable** over a dataset, allowing for batching, shuffling, and multi-process data loading. |"
   ]
  },
  {
   "cell_type": "code",
   "execution_count": 1,
   "id": "459f2229",
   "metadata": {},
   "outputs": [
    {
     "name": "stdout",
     "output_type": "stream",
     "text": [
      "0.23.0+cpu\n",
      "2.8.0+cpu\n"
     ]
    }
   ],
   "source": [
    "# Import PyTorch\n",
    "import torch\n",
    "from torch import nn\n",
    "\n",
    "# Import Torchvision\n",
    "import torchvision\n",
    "from torchvision.transforms import ToTensor\n",
    "\n",
    "print(torchvision.__version__)\n",
    "print(torch.__version__)"
   ]
  },
  {
   "cell_type": "markdown",
   "id": "840d869d",
   "metadata": {},
   "source": [
    "*Getting fashionMINIST dataset from PyTorch*"
   ]
  },
  {
   "cell_type": "code",
   "execution_count": 2,
   "id": "279d328a",
   "metadata": {},
   "outputs": [],
   "source": [
    "from torchvision import datasets\n",
    "\n",
    "# set up training data\n",
    "train_data=datasets.FashionMNIST(\n",
    "    root='data', # root directory to store data\n",
    "    train=True, # training data\n",
    "    download=True, # True for downloading\n",
    "    transform=ToTensor(), # image comes as PIL (Python Imaging Format), we want to turn into Torch Tensor\n",
    "    target_transform=None # we can transform label as well\n",
    ")\n",
    "\n",
    "\n",
    "# set up testing data\n",
    "test_data=datasets.FashionMNIST(\n",
    "    root='data',\n",
    "    train=False,\n",
    "    download=True,\n",
    "    transform=ToTensor()\n",
    ")\n"
   ]
  },
  {
   "cell_type": "code",
   "execution_count": 3,
   "id": "ba5474a5",
   "metadata": {},
   "outputs": [
    {
     "name": "stdout",
     "output_type": "stream",
     "text": [
      "9\n"
     ]
    }
   ],
   "source": [
    "image, label=train_data[0]\n",
    "print(label)"
   ]
  },
  {
   "cell_type": "code",
   "execution_count": 4,
   "id": "9b43798c",
   "metadata": {},
   "outputs": [
    {
     "name": "stdout",
     "output_type": "stream",
     "text": [
      "torch.Size([1, 28, 28])\n"
     ]
    }
   ],
   "source": [
    "print(image.shape)\n",
    "# this represent\n",
    "# color_channel=1, height=28, width=28\n",
    "# color_channel=1 means grayscale"
   ]
  },
  {
   "cell_type": "code",
   "execution_count": 5,
   "id": "f7e195ef",
   "metadata": {},
   "outputs": [
    {
     "name": "stdout",
     "output_type": "stream",
     "text": [
      "60000\n",
      "60000\n",
      "10000\n",
      "10000\n"
     ]
    }
   ],
   "source": [
    "# total samples\n",
    "print(len(train_data.data))\n",
    "print(len(train_data.targets))\n",
    "print(len(test_data.data))\n",
    "print(len(test_data.targets))\n",
    "\n",
    "# 60,000 training samples\n",
    "# 10,000 testing samples"
   ]
  },
  {
   "cell_type": "code",
   "execution_count": 6,
   "id": "f82fc719",
   "metadata": {},
   "outputs": [
    {
     "name": "stdout",
     "output_type": "stream",
     "text": [
      "['T-shirt/top', 'Trouser', 'Pullover', 'Dress', 'Coat', 'Sandal', 'Shirt', 'Sneaker', 'Bag', 'Ankle boot']\n"
     ]
    }
   ],
   "source": [
    "# class names of data\n",
    "# we're working with multi-class classification\n",
    "class_names=train_data.classes\n",
    "print(class_names)"
   ]
  },
  {
   "cell_type": "markdown",
   "id": "0eb8d11e",
   "metadata": {},
   "source": [
    "*visualizing data*"
   ]
  },
  {
   "cell_type": "code",
   "execution_count": 7,
   "id": "a20a8501",
   "metadata": {},
   "outputs": [
    {
     "name": "stdout",
     "output_type": "stream",
     "text": [
      "torch.Size([1, 28, 28])\n"
     ]
    },
    {
     "data": {
      "text/plain": [
       "<matplotlib.image.AxesImage at 0x11e52ad1160>"
      ]
     },
     "execution_count": 7,
     "metadata": {},
     "output_type": "execute_result"
    },
    {
     "data": {
      "image/png": "[encoded data removed]",
      "text/plain": [
       "<Figure size 640x480 with 1 Axes>"
      ]
     },
     "metadata": {},
     "output_type": "display_data"
    }
   ],
   "source": [
    "\n",
    "import matplotlib.pyplot as plt\n",
    "image, label=train_data[0]\n",
    "print(image.shape)\n",
    "plt.imshow(image.squeeze())"
   ]
  },
  {
   "cell_type": "code",
   "execution_count": 8,
   "id": "4eda3c10",
   "metadata": {},
   "outputs": [
    {
     "data": {
      "text/plain": [
       "<matplotlib.image.AxesImage at 0x11e52b77c50>"
      ]
     },
     "execution_count": 8,
     "metadata": {},
     "output_type": "execute_result"
    },
    {
     "data": {
      "image/png": "[encoded data removed]",
      "text/plain": [
       "<Figure size 640x480 with 1 Axes>"
      ]
     },
     "metadata": {},
     "output_type": "display_data"
    }
   ],
   "source": [
    "# Truning this image into gray-scale image\n",
    "plt.imshow(image.squeeze(), cmap='gray')"
   ]
  },
  {
   "cell_type": "markdown",
   "id": "b2ba4789",
   "metadata": {},
   "source": [
    "*some other images*"
   ]
  },
  {
   "cell_type": "code",
   "execution_count": 9,
   "id": "11554a2d",
   "metadata": {},
   "outputs": [
    {
     "data": {
      "image/png": "[encoded data removed]",
      "text/plain": [
       "<Figure size 900x900 with 16 Axes>"
      ]
     },
     "metadata": {},
     "output_type": "display_data"
    }
   ],
   "source": [
    "torch.manual_seed(42)\n",
    "rows=4\n",
    "cols=4\n",
    "fig=plt.figure(figsize=(9,9))\n",
    "for i in range(1, rows*cols+1):\n",
    "    raondom_idx=torch.randint(0,len(train_data),size=(1,)).item()\n",
    "    image,label=train_data[raondom_idx]\n",
    "    fig.add_subplot(rows, cols, i)\n",
    "    plt.imshow(image.squeeze())\n",
    "    plt.title(class_names[label])\n",
    "    plt.axis(False)\n"
   ]
  },
  {
   "cell_type": "markdown",
   "id": "fd7fb010",
   "metadata": {},
   "source": [
    "**Prepare DataLoader**\n",
    "\n",
    "`DataLoader` helps to laod the data into a Model, which then works into traing and testing model.\n",
    "we can control `batch_size` with it\n",
    "\n",
    "`from torch.utils.data import DataLoader` "
   ]
  },
  {
   "cell_type": "code",
   "execution_count": 10,
   "id": "849966b7",
   "metadata": {},
   "outputs": [],
   "source": [
    "from torch.utils.data import DataLoader\n",
    "BATCH_SIZE=32 # hyperparameter\n",
    "\n",
    "# turning the dataset into iteratble (batches)\n",
    "train_dataloader=DataLoader(dataset=train_data,batch_size=BATCH_SIZE,shuffle=True)\n",
    "\n",
    "test_dataloader=DataLoader(dataset=test_data,batch_size=BATCH_SIZE,shuffle=False # don't necessary shuffle testing data\n",
    "                           )"
   ]
  },
  {
   "cell_type": "code",
   "execution_count": 11,
   "id": "9ed81c51",
   "metadata": {},
   "outputs": [
    {
     "name": "stdout",
     "output_type": "stream",
     "text": [
      "1875\n",
      "313\n"
     ]
    }
   ],
   "source": [
    "print(len(train_dataloader))\n",
    "print(len(test_dataloader))\n"
   ]
  },
  {
   "cell_type": "code",
   "execution_count": 12,
   "id": "e50ea943",
   "metadata": {},
   "outputs": [
    {
     "name": "stdout",
     "output_type": "stream",
     "text": [
      "torch.Size([32, 1, 28, 28])\n",
      "torch.Size([32])\n"
     ]
    }
   ],
   "source": [
    "# let's see what inside training, testing dataloader\n",
    "train_features_batch, train_labels_batch=next(iter(train_dataloader))\n",
    "print(train_features_batch.shape)\n",
    "print(train_labels_batch.shape)\n"
   ]
  },
  {
   "cell_type": "code",
   "execution_count": 13,
   "id": "7dfd537c",
   "metadata": {},
   "outputs": [
    {
     "data": {
      "text/plain": [
       "Text(0.5, 1.0, 'Shirt')"
      ]
     },
     "execution_count": 13,
     "metadata": {},
     "output_type": "execute_result"
    },
    {
     "data": {
      "image/png": "[encoded data removed]",
      "text/plain": [
       "<Figure size 640x480 with 1 Axes>"
      ]
     },
     "metadata": {},
     "output_type": "display_data"
    }
   ],
   "source": [
    "# getting a sample\n",
    "torch.manual_seed(75)\n",
    "random_indx=torch.randint(0, len(train_features_batch),size=(1,)).item()\n",
    "image, labels=train_features_batch[random_indx], train_features_batch[random_indx]\n",
    "plt.imshow(image.squeeze())\n",
    "plt.title(class_names[label])\n"
   ]
  },
  {
   "cell_type": "markdown",
   "id": "c956d0b3",
   "metadata": {},
   "source": [
    "**Model 0: Building a Baseline model**\n",
    "\n",
    "For making a baseline model, we'll be using simple `nn.Linear()` layers.\n",
    "but before that, we need to add `nn.Faltten()` to change image tensor dimentions into feature vector"
   ]
  },
  {
   "cell_type": "markdown",
   "id": "4ee017b3",
   "metadata": {},
   "source": [
    "*Example of `nn.Faltten()`*"
   ]
  },
  {
   "cell_type": "code",
   "execution_count": 14,
   "id": "af39e3e7",
   "metadata": {},
   "outputs": [
    {
     "name": "stdout",
     "output_type": "stream",
     "text": [
      "torch.Size([1, 28, 28])\n",
      "torch.Size([1, 784])\n"
     ]
    }
   ],
   "source": [
    "# working with nn.Faltten()\n",
    "from torch import nn\n",
    "flatten_model=nn.Flatten()\n",
    "X=train_features_batch[0]\n",
    "output=flatten_model(X)\n",
    "\n",
    "print(X.shape)\n",
    "print(output.shape)                "
   ]
  },
  {
   "cell_type": "code",
   "execution_count": 15,
   "id": "6293db51",
   "metadata": {},
   "outputs": [],
   "source": [
    "class FashionMNISTModelV0(nn.Module):\n",
    "    def __init__(self, input_shape:int, hidden_layer:int, output_shape:int):\n",
    "        super().__init__()\n",
    "        self.layer_stack=nn.Sequential(\n",
    "            nn.Flatten(),\n",
    "            nn.Linear(in_features=input_shape, out_features=hidden_layer),\n",
    "            nn.Linear(in_features=hidden_layer, out_features=output_shape)\n",
    "        \n",
    "        )\n",
    "\n",
    "    def forward(self, x):\n",
    "        return self.layer_stack(x)\n",
    "    "
   ]
  },
  {
   "cell_type": "code",
   "execution_count": 16,
   "id": "7d9bfe56",
   "metadata": {},
   "outputs": [
    {
     "name": "stdout",
     "output_type": "stream",
     "text": [
      "cpu\n"
     ]
    }
   ],
   "source": [
    "# setting agonistic device\n",
    "device='cuda' if torch.cuda.is_available() else 'cpu'\n",
    "print(device)"
   ]
  },
  {
   "cell_type": "code",
   "execution_count": 17,
   "id": "6c8c7212",
   "metadata": {},
   "outputs": [
    {
     "data": {
      "text/plain": [
       "FashionMNISTModelV0(\n",
       "  (layer_stack): Sequential(\n",
       "    (0): Flatten(start_dim=1, end_dim=-1)\n",
       "    (1): Linear(in_features=784, out_features=10, bias=True)\n",
       "    (2): Linear(in_features=10, out_features=10, bias=True)\n",
       "  )\n",
       ")"
      ]
     },
     "execution_count": 17,
     "metadata": {},
     "output_type": "execute_result"
    }
   ],
   "source": [
    "model_0=FashionMNISTModelV0(input_shape=784,hidden_layer=10,output_shape=len(class_names))\n",
    "model_0.to(device)"
   ]
  },
  {
   "cell_type": "code",
   "execution_count": 18,
   "id": "597a18d7",
   "metadata": {},
   "outputs": [
    {
     "name": "stdout",
     "output_type": "stream",
     "text": [
      "helper_functions.py already exists, skipping download\n"
     ]
    }
   ],
   "source": [
    "# downloading some of the stuffs\n",
    "import requests\n",
    "from pathlib import Path\n",
    "\n",
    "# Download helper functions from Learn PyTorch repo (if not already downloaded)\n",
    "if Path(\"helper_functions.py\").is_file():\n",
    "  print(\"helper_functions.py already exists, skipping download\")\n",
    "else:\n",
    "  print(\"Downloading helper_functions.py\")\n",
    "  # Note: you need the \"raw\" GitHub URL for this to work\n",
    "  request = requests.get(\n",
    "      \"https://raw.githubusercontent.com/mrdbourke/pytorch-deep-learning/main/helper_functions.py\")\n",
    "  with open(\"helper_functions.py\", \"wb\") as f:\n",
    "    f.write(request.content)"
   ]
  },
  {
   "cell_type": "code",
   "execution_count": 19,
   "id": "e3c02504",
   "metadata": {},
   "outputs": [],
   "source": [
    "from helper_functions import accuracy_fn\n",
    "loss_fn=nn.CrossEntropyLoss()\n",
    "optimizer=torch.optim.SGD(params=model_0.parameters(), lr=0.1)"
   ]
  },
  {
   "cell_type": "markdown",
   "id": "f65d9011",
   "metadata": {},
   "source": [
    "*Creating a training loop and training model on batches of data*"
   ]
  },
  {
   "cell_type": "code",
   "execution_count": 20,
   "id": "e14bc265",
   "metadata": {},
   "outputs": [
    {
     "name": "stderr",
     "output_type": "stream",
     "text": [
      "c:\\Users\\USER\\PyTorch\\env\\Lib\\site-packages\\tqdm\\auto.py:21: TqdmWarning: IProgress not found. Please update jupyter and ipywidgets. See https://ipywidgets.readthedocs.io/en/stable/user_install.html\n",
      "  from .autonotebook import tqdm as notebook_tqdm\n",
      "  0%|          | 0/5 [00:00<?, ?it/s]"
     ]
    },
    {
     "name": "stdout",
     "output_type": "stream",
     "text": [
      "Epoch 0--------\n",
      "Looked at 0/60000 samples\n",
      "Looked at 16000/60000 samples\n",
      "Looked at 32000/60000 samples\n",
      "Looked at 48000/60000 samples\n"
     ]
    },
    {
     "name": "stderr",
     "output_type": "stream",
     "text": [
      " 20%|██        | 1/5 [00:09<00:39,  9.79s/it]"
     ]
    },
    {
     "name": "stdout",
     "output_type": "stream",
     "text": [
      "\n",
      "Train loss: 0.58746 | Test loss: 0.50279, Test acc: 82.32%\n",
      "\n",
      "Epoch 1--------\n",
      "Looked at 0/60000 samples\n",
      "Looked at 16000/60000 samples\n",
      "Looked at 32000/60000 samples\n",
      "Looked at 48000/60000 samples\n"
     ]
    },
    {
     "name": "stderr",
     "output_type": "stream",
     "text": [
      " 40%|████      | 2/5 [00:22<00:33, 11.26s/it]"
     ]
    },
    {
     "name": "stdout",
     "output_type": "stream",
     "text": [
      "\n",
      "Train loss: 0.47553 | Test loss: 0.48126, Test acc: 83.34%\n",
      "\n",
      "Epoch 2--------\n",
      "Looked at 0/60000 samples\n",
      "Looked at 16000/60000 samples\n",
      "Looked at 32000/60000 samples\n",
      "Looked at 48000/60000 samples\n"
     ]
    },
    {
     "name": "stderr",
     "output_type": "stream",
     "text": [
      " 60%|██████    | 3/5 [00:32<00:22, 11.05s/it]"
     ]
    },
    {
     "name": "stdout",
     "output_type": "stream",
     "text": [
      "\n",
      "Train loss: 0.45459 | Test loss: 0.47736, Test acc: 83.34%\n",
      "\n",
      "Epoch 3--------\n",
      "Looked at 0/60000 samples\n",
      "Looked at 16000/60000 samples\n",
      "Looked at 32000/60000 samples\n",
      "Looked at 48000/60000 samples\n"
     ]
    },
    {
     "name": "stderr",
     "output_type": "stream",
     "text": [
      " 80%|████████  | 4/5 [00:41<00:10, 10.09s/it]"
     ]
    },
    {
     "name": "stdout",
     "output_type": "stream",
     "text": [
      "\n",
      "Train loss: 0.44221 | Test loss: 0.46229, Test acc: 83.70%\n",
      "\n",
      "Epoch 4--------\n",
      "Looked at 0/60000 samples\n",
      "Looked at 16000/60000 samples\n",
      "Looked at 32000/60000 samples\n",
      "Looked at 48000/60000 samples\n"
     ]
    },
    {
     "name": "stderr",
     "output_type": "stream",
     "text": [
      "100%|██████████| 5/5 [00:50<00:00, 10.03s/it]"
     ]
    },
    {
     "name": "stdout",
     "output_type": "stream",
     "text": [
      "\n",
      "Train loss: 0.43556 | Test loss: 0.46884, Test acc: 83.16%\n",
      "\n"
     ]
    },
    {
     "name": "stderr",
     "output_type": "stream",
     "text": [
      "\n"
     ]
    }
   ],
   "source": [
    "# for progress bar\n",
    "from tqdm.auto import tqdm\n",
    "torch.manual_seed(42)\n",
    "epochs=5\n",
    "\n",
    "for epoch in tqdm(range(epochs)):\n",
    "    print(f'Epoch {epoch}--------')\n",
    "\n",
    "    train_loss=0 # training loss\n",
    "\n",
    "    # looping through batches\n",
    "    for batch, (X,y) in enumerate(train_dataloader):\n",
    "            \n",
    "        model_0.train()  # model_0 training\n",
    "        y_pred=model_0(X) # Forward pass\n",
    "        loss=loss_fn(y_pred, y) # loss function\n",
    "        train_loss+=loss # updating training loss\n",
    "        optimizer.zero_grad() # zero gradient\n",
    "        loss.backward() # backpropagation\n",
    "        optimizer.step() # updating optimizer\n",
    "\n",
    "        # printing how many samples have been seen\n",
    "        if batch%500==0:\n",
    "            print(\n",
    "                f\"Looked at {batch * len(X)}/{len(train_dataloader.dataset)} samples\")\n",
    "    # total train loss\n",
    "    train_loss/=len(train_dataloader)\n",
    "\n",
    "    # Testing\n",
    "    test_loss=0\n",
    "    test_acc=0\n",
    "    model_0.eval()\n",
    "    with torch.inference_mode():\n",
    "        for X,y in test_dataloader:\n",
    "            test_pred=model_0(X) # Forward pass\n",
    "            test_loss+=loss_fn(test_pred,y) # loss\n",
    "            test_acc+=accuracy_fn(y_true=y, y_pred=test_pred.argmax(dim=1))\n",
    "        test_loss/=len(test_dataloader)\n",
    "        test_acc/=len(test_dataloader)\n",
    "    print(f\"\\nTrain loss: {train_loss:.5f} | Test loss: {test_loss:.5f}, Test acc: {test_acc:.2f}%\\n\")\n"
   ]
  },
  {
   "cell_type": "markdown",
   "id": "6f3f5c86",
   "metadata": {},
   "source": [
    "*Making a function for getting the overall accuracy of model_0*"
   ]
  },
  {
   "cell_type": "code",
   "execution_count": 21,
   "id": "00a0e8cc",
   "metadata": {},
   "outputs": [],
   "source": [
    "torch.manual_seed(42)\n",
    "\n",
    "def model_evaluation(model:torch.nn.Module,\n",
    "                     data_loader:torch.utils.data.DataLoader,\n",
    "                     loss_fn:torch.nn.Module,\n",
    "                     accuracy_fn):\n",
    "    \n",
    "    loss=0\n",
    "    acc=0\n",
    "    model.eval()\n",
    "    with torch.inference_mode():\n",
    "        for X,y in data_loader:\n",
    "            model_pred=model(X)\n",
    "            loss+=loss_fn(model_pred, y)\n",
    "            acc+=accuracy_fn(y_true=y, y_pred=model_pred.argmax(dim=1))\n",
    "        loss/=len(data_loader)\n",
    "        acc/=len(data_loader)\n",
    "\n",
    "    return {\"model_name\": model.__class__.__name__, # only works when model was created with a class\n",
    "            \"model_loss\": loss.item(),\n",
    "            \"model_acc\": acc}\n"
   ]
  },
  {
   "cell_type": "code",
   "execution_count": null,
   "id": "42d55234",
   "metadata": {},
   "outputs": [
    {
     "name": "stdout",
     "output_type": "stream",
     "text": [
      "{'model_name': 'FashionMNISTModelV0', 'model_loss': 0.46884456276893616, 'model_acc': 83.15694888178913}\n"
     ]
    }
   ],
   "source": [
    "# performance matrix for model_0\n",
    "model_0_performance=model_evaluation(model=model_0,data_loader=test_dataloader,loss_fn=loss_fn,accuracy_fn=accuracy_fn)\n",
    "print(model_0_performance)\n"
   ]
  }
 ],
 "metadata": {
  "kernelspec": {
   "display_name": "env",
   "language": "python",
   "name": "python3"
  },
  "language_info": {
   "codemirror_mode": {
    "name": "ipython",
    "version": 3
   },
   "file_extension": ".py",
   "mimetype": "text/x-python",
   "name": "python",
   "nbconvert_exporter": "python",
   "pygments_lexer": "ipython3",
   "version": "3.13.1"
  }
 },
 "nbformat": 4,
 "nbformat_minor": 5
}
